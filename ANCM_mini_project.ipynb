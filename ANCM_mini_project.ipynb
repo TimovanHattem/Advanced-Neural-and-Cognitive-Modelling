{
  "nbformat": 4,
  "nbformat_minor": 0,
  "metadata": {
    "colab": {
      "provenance": [],
      "gpuType": "T4"
    },
    "kernelspec": {
      "name": "python3",
      "display_name": "Python 3"
    },
    "language_info": {
      "name": "python"
    },
    "accelerator": "GPU"
  },
  "cells": [
    {
      "cell_type": "code",
      "execution_count": null,
      "metadata": {
        "colab": {
          "base_uri": "https://localhost:8080/"
        },
        "id": "9fGMhdMij8mM",
        "outputId": "dcb0f858-12c2-4ce9-e8cb-69a94ecc964a"
      },
      "outputs": [
        {
          "output_type": "stream",
          "name": "stdout",
          "text": [
            "Mounted at /content/gdrive\n"
          ]
        }
      ],
      "source": [
        "from google.colab import drive\n",
        "drive.mount(\"/content/gdrive\")\n"
      ]
    },
    {
      "cell_type": "code",
      "source": [
        "#clone github repository of lab\n",
        "! git clone https://github.com/baccuslab/torch-deep-retina.git"
      ],
      "metadata": {
        "colab": {
          "base_uri": "https://localhost:8080/"
        },
        "id": "nh0K_lYXkr1F",
        "outputId": "013c521c-798f-4b1e-c7e4-2e629a94cc21"
      },
      "execution_count": null,
      "outputs": [
        {
          "output_type": "stream",
          "name": "stdout",
          "text": [
            "Cloning into 'torch-deep-retina'...\n",
            "remote: Enumerating objects: 5374, done.\u001b[K\n",
            "remote: Counting objects: 100% (1412/1412), done.\u001b[K\n",
            "remote: Compressing objects: 100% (496/496), done.\u001b[K\n",
            "remote: Total 5374 (delta 953), reused 1366 (delta 914), pack-reused 3962\u001b[K\n",
            "Receiving objects: 100% (5374/5374), 791.37 MiB | 33.08 MiB/s, done.\n",
            "Resolving deltas: 100% (3435/3435), done.\n"
          ]
        }
      ]
    },
    {
      "cell_type": "code",
      "source": [
        "#navigate into the right directory\n",
        "%cd torch-deep-retina"
      ],
      "metadata": {
        "colab": {
          "base_uri": "https://localhost:8080/"
        },
        "id": "TQK8PXMaokRT",
        "outputId": "eebe9f68-1645-4272-8a35-f84aa7b01d0e"
      },
      "execution_count": null,
      "outputs": [
        {
          "output_type": "stream",
          "name": "stdout",
          "text": [
            "/content/torch-deep-retina\n"
          ]
        }
      ]
    },
    {
      "cell_type": "code",
      "source": [
        "#make sure all the requiresments are installed\n",
        "! pip install -r requirements.txt\n",
        "! pip install -e .\n",
        "! pip install captum\n"
      ],
      "metadata": {
        "colab": {
          "base_uri": "https://localhost:8080/"
        },
        "id": "hIDzAcbqpwOv",
        "outputId": "30b4017f-d608-44fe-9291-93c08895159c"
      },
      "execution_count": null,
      "outputs": [
        {
          "output_type": "stream",
          "name": "stdout",
          "text": [
            "Requirement already satisfied: numpy in /usr/local/lib/python3.10/dist-packages (from -r requirements.txt (line 1)) (1.23.5)\n",
            "Requirement already satisfied: scipy in /usr/local/lib/python3.10/dist-packages (from -r requirements.txt (line 2)) (1.11.3)\n",
            "Requirement already satisfied: matplotlib in /usr/local/lib/python3.10/dist-packages (from -r requirements.txt (line 3)) (3.7.1)\n",
            "Requirement already satisfied: torch in /usr/local/lib/python3.10/dist-packages (from -r requirements.txt (line 4)) (2.1.0+cu118)\n",
            "Requirement already satisfied: tqdm in /usr/local/lib/python3.10/dist-packages (from -r requirements.txt (line 5)) (4.66.1)\n",
            "Collecting tableprint (from -r requirements.txt (line 6))\n",
            "  Downloading tableprint-0.9.1-py3-none-any.whl (6.8 kB)\n",
            "Collecting scikit-build (from -r requirements.txt (line 7))\n",
            "  Downloading scikit_build-0.17.6-py3-none-any.whl (84 kB)\n",
            "\u001b[2K     \u001b[90m━━━━━━━━━━━━━━━━━━━━━━━━━━━━━━━━━━━━━━━━\u001b[0m \u001b[32m84.3/84.3 kB\u001b[0m \u001b[31m2.6 MB/s\u001b[0m eta \u001b[36m0:00:00\u001b[0m\n",
            "\u001b[?25hRequirement already satisfied: scikit-learn in /usr/local/lib/python3.10/dist-packages (from -r requirements.txt (line 8)) (1.2.2)\n",
            "Requirement already satisfied: scikit-image in /usr/local/lib/python3.10/dist-packages (from -r requirements.txt (line 9)) (0.19.3)\n",
            "Requirement already satisfied: pandas in /usr/local/lib/python3.10/dist-packages (from -r requirements.txt (line 10)) (1.5.3)\n",
            "Requirement already satisfied: h5py in /usr/local/lib/python3.10/dist-packages (from -r requirements.txt (line 11)) (3.9.0)\n",
            "Collecting descent (from -r requirements.txt (line 12))\n",
            "  Downloading descent-0.2.5.tar.gz (10 kB)\n",
            "  Preparing metadata (setup.py) ... \u001b[?25l\u001b[?25hdone\n",
            "Collecting deepdish (from -r requirements.txt (line 13))\n",
            "  Downloading deepdish-0.3.7-py2.py3-none-any.whl (37 kB)\n",
            "Collecting pyret (from -r requirements.txt (line 14))\n",
            "  Downloading pyret-0.6.0.tar.gz (22 kB)\n",
            "  Preparing metadata (setup.py) ... \u001b[?25l\u001b[?25hdone\n",
            "Requirement already satisfied: moviepy in /usr/local/lib/python3.10/dist-packages (from -r requirements.txt (line 15)) (1.0.3)\n",
            "Requirement already satisfied: psutil in /usr/local/lib/python3.10/dist-packages (from -r requirements.txt (line 16)) (5.9.5)\n",
            "Requirement already satisfied: opencv-python in /usr/local/lib/python3.10/dist-packages (from -r requirements.txt (line 17)) (4.8.0.76)\n",
            "Requirement already satisfied: contourpy>=1.0.1 in /usr/local/lib/python3.10/dist-packages (from matplotlib->-r requirements.txt (line 3)) (1.1.1)\n",
            "Requirement already satisfied: cycler>=0.10 in /usr/local/lib/python3.10/dist-packages (from matplotlib->-r requirements.txt (line 3)) (0.12.1)\n",
            "Requirement already satisfied: fonttools>=4.22.0 in /usr/local/lib/python3.10/dist-packages (from matplotlib->-r requirements.txt (line 3)) (4.43.1)\n",
            "Requirement already satisfied: kiwisolver>=1.0.1 in /usr/local/lib/python3.10/dist-packages (from matplotlib->-r requirements.txt (line 3)) (1.4.5)\n",
            "Requirement already satisfied: packaging>=20.0 in /usr/local/lib/python3.10/dist-packages (from matplotlib->-r requirements.txt (line 3)) (23.2)\n",
            "Requirement already satisfied: pillow>=6.2.0 in /usr/local/lib/python3.10/dist-packages (from matplotlib->-r requirements.txt (line 3)) (9.4.0)\n",
            "Requirement already satisfied: pyparsing>=2.3.1 in /usr/local/lib/python3.10/dist-packages (from matplotlib->-r requirements.txt (line 3)) (3.1.1)\n",
            "Requirement already satisfied: python-dateutil>=2.7 in /usr/local/lib/python3.10/dist-packages (from matplotlib->-r requirements.txt (line 3)) (2.8.2)\n",
            "Requirement already satisfied: filelock in /usr/local/lib/python3.10/dist-packages (from torch->-r requirements.txt (line 4)) (3.12.4)\n",
            "Requirement already satisfied: typing-extensions in /usr/local/lib/python3.10/dist-packages (from torch->-r requirements.txt (line 4)) (4.5.0)\n",
            "Requirement already satisfied: sympy in /usr/local/lib/python3.10/dist-packages (from torch->-r requirements.txt (line 4)) (1.12)\n",
            "Requirement already satisfied: networkx in /usr/local/lib/python3.10/dist-packages (from torch->-r requirements.txt (line 4)) (3.2)\n",
            "Requirement already satisfied: jinja2 in /usr/local/lib/python3.10/dist-packages (from torch->-r requirements.txt (line 4)) (3.1.2)\n",
            "Requirement already satisfied: fsspec in /usr/local/lib/python3.10/dist-packages (from torch->-r requirements.txt (line 4)) (2023.6.0)\n",
            "Requirement already satisfied: triton==2.1.0 in /usr/local/lib/python3.10/dist-packages (from torch->-r requirements.txt (line 4)) (2.1.0)\n",
            "Requirement already satisfied: future in /usr/local/lib/python3.10/dist-packages (from tableprint->-r requirements.txt (line 6)) (0.18.3)\n",
            "Requirement already satisfied: wcwidth in /usr/local/lib/python3.10/dist-packages (from tableprint->-r requirements.txt (line 6)) (0.2.8)\n",
            "Requirement already satisfied: distro in /usr/lib/python3/dist-packages (from scikit-build->-r requirements.txt (line 7)) (1.7.0)\n",
            "Requirement already satisfied: setuptools>=42.0.0 in /usr/local/lib/python3.10/dist-packages (from scikit-build->-r requirements.txt (line 7)) (67.7.2)\n",
            "Requirement already satisfied: tomli in /usr/local/lib/python3.10/dist-packages (from scikit-build->-r requirements.txt (line 7)) (2.0.1)\n",
            "Requirement already satisfied: wheel>=0.32.0 in /usr/local/lib/python3.10/dist-packages (from scikit-build->-r requirements.txt (line 7)) (0.41.2)\n",
            "Requirement already satisfied: joblib>=1.1.1 in /usr/local/lib/python3.10/dist-packages (from scikit-learn->-r requirements.txt (line 8)) (1.3.2)\n",
            "Requirement already satisfied: threadpoolctl>=2.0.0 in /usr/local/lib/python3.10/dist-packages (from scikit-learn->-r requirements.txt (line 8)) (3.2.0)\n",
            "Requirement already satisfied: imageio>=2.4.1 in /usr/local/lib/python3.10/dist-packages (from scikit-image->-r requirements.txt (line 9)) (2.31.5)\n",
            "Requirement already satisfied: tifffile>=2019.7.26 in /usr/local/lib/python3.10/dist-packages (from scikit-image->-r requirements.txt (line 9)) (2023.9.26)\n",
            "Requirement already satisfied: PyWavelets>=1.1.1 in /usr/local/lib/python3.10/dist-packages (from scikit-image->-r requirements.txt (line 9)) (1.4.1)\n",
            "Requirement already satisfied: pytz>=2020.1 in /usr/local/lib/python3.10/dist-packages (from pandas->-r requirements.txt (line 10)) (2023.3.post1)\n",
            "Requirement already satisfied: six in /usr/local/lib/python3.10/dist-packages (from descent->-r requirements.txt (line 12)) (1.16.0)\n",
            "Requirement already satisfied: toolz in /usr/local/lib/python3.10/dist-packages (from descent->-r requirements.txt (line 12)) (0.12.0)\n",
            "Requirement already satisfied: multipledispatch in /usr/local/lib/python3.10/dist-packages (from descent->-r requirements.txt (line 12)) (1.0.0)\n",
            "Collecting custom_inherit (from descent->-r requirements.txt (line 12))\n",
            "  Downloading custom_inherit-2.4.1-py3-none-any.whl (15 kB)\n",
            "Requirement already satisfied: tables in /usr/local/lib/python3.10/dist-packages (from deepdish->-r requirements.txt (line 13)) (3.8.0)\n",
            "Requirement already satisfied: decorator<5.0,>=4.0.2 in /usr/local/lib/python3.10/dist-packages (from moviepy->-r requirements.txt (line 15)) (4.4.2)\n",
            "Requirement already satisfied: requests<3.0,>=2.8.1 in /usr/local/lib/python3.10/dist-packages (from moviepy->-r requirements.txt (line 15)) (2.31.0)\n",
            "Requirement already satisfied: proglog<=1.0.0 in /usr/local/lib/python3.10/dist-packages (from moviepy->-r requirements.txt (line 15)) (0.1.10)\n",
            "Requirement already satisfied: imageio-ffmpeg>=0.2.0 in /usr/local/lib/python3.10/dist-packages (from moviepy->-r requirements.txt (line 15)) (0.4.9)\n",
            "Requirement already satisfied: charset-normalizer<4,>=2 in /usr/local/lib/python3.10/dist-packages (from requests<3.0,>=2.8.1->moviepy->-r requirements.txt (line 15)) (3.3.0)\n",
            "Requirement already satisfied: idna<4,>=2.5 in /usr/local/lib/python3.10/dist-packages (from requests<3.0,>=2.8.1->moviepy->-r requirements.txt (line 15)) (3.4)\n",
            "Requirement already satisfied: urllib3<3,>=1.21.1 in /usr/local/lib/python3.10/dist-packages (from requests<3.0,>=2.8.1->moviepy->-r requirements.txt (line 15)) (2.0.7)\n",
            "Requirement already satisfied: certifi>=2017.4.17 in /usr/local/lib/python3.10/dist-packages (from requests<3.0,>=2.8.1->moviepy->-r requirements.txt (line 15)) (2023.7.22)\n",
            "Requirement already satisfied: MarkupSafe>=2.0 in /usr/local/lib/python3.10/dist-packages (from jinja2->torch->-r requirements.txt (line 4)) (2.1.3)\n",
            "Requirement already satisfied: mpmath>=0.19 in /usr/local/lib/python3.10/dist-packages (from sympy->torch->-r requirements.txt (line 4)) (1.3.0)\n",
            "Requirement already satisfied: cython>=0.29.21 in /usr/local/lib/python3.10/dist-packages (from tables->deepdish->-r requirements.txt (line 13)) (3.0.4)\n",
            "Requirement already satisfied: numexpr>=2.6.2 in /usr/local/lib/python3.10/dist-packages (from tables->deepdish->-r requirements.txt (line 13)) (2.8.7)\n",
            "Requirement already satisfied: blosc2~=2.0.0 in /usr/local/lib/python3.10/dist-packages (from tables->deepdish->-r requirements.txt (line 13)) (2.0.0)\n",
            "Requirement already satisfied: py-cpuinfo in /usr/local/lib/python3.10/dist-packages (from tables->deepdish->-r requirements.txt (line 13)) (9.0.0)\n",
            "Requirement already satisfied: msgpack in /usr/local/lib/python3.10/dist-packages (from blosc2~=2.0.0->tables->deepdish->-r requirements.txt (line 13)) (1.0.7)\n",
            "Building wheels for collected packages: descent, pyret\n",
            "  Building wheel for descent (setup.py) ... \u001b[?25l\u001b[?25hdone\n",
            "  Created wheel for descent: filename=descent-0.2.5-py3-none-any.whl size=11992 sha256=a2ddcf5e78f4a753a8509854245ea7c3998bf18d184e269d44e4fc0ce2c06ec6\n",
            "  Stored in directory: /root/.cache/pip/wheels/70/7c/ba/299665b78692cd8db7341a72481173078386ca7f7d1b04dd6d\n",
            "  Building wheel for pyret (setup.py) ... \u001b[?25l\u001b[?25hdone\n",
            "  Created wheel for pyret: filename=pyret-0.6.0-py3-none-any.whl size=24462 sha256=c07e13ad21a3613455df58f07f65614c6b2b3376fc90528adb55a2aff5553130\n",
            "  Stored in directory: /root/.cache/pip/wheels/7a/0d/51/87b3520d363b37dc5ca3bc5f7f1c4e527aa226650f76fd3bf8\n",
            "Successfully built descent pyret\n",
            "Installing collected packages: custom_inherit, tableprint, scikit-build, descent, pyret, deepdish\n",
            "Successfully installed custom_inherit-2.4.1 deepdish-0.3.7 descent-0.2.5 pyret-0.6.0 scikit-build-0.17.6 tableprint-0.9.1\n",
            "Obtaining file:///content/torch-deep-retina\n",
            "  Preparing metadata (setup.py) ... \u001b[?25l\u001b[?25hdone\n",
            "Requirement already satisfied: numpy in /usr/local/lib/python3.10/dist-packages (from torchdeepretina==0.1.0) (1.23.5)\n",
            "Requirement already satisfied: scipy in /usr/local/lib/python3.10/dist-packages (from torchdeepretina==0.1.0) (1.11.3)\n",
            "Requirement already satisfied: matplotlib in /usr/local/lib/python3.10/dist-packages (from torchdeepretina==0.1.0) (3.7.1)\n",
            "Requirement already satisfied: torch in /usr/local/lib/python3.10/dist-packages (from torchdeepretina==0.1.0) (2.1.0+cu118)\n",
            "Requirement already satisfied: opencv-python in /usr/local/lib/python3.10/dist-packages (from torchdeepretina==0.1.0) (4.8.0.76)\n",
            "Requirement already satisfied: tqdm in /usr/local/lib/python3.10/dist-packages (from torchdeepretina==0.1.0) (4.66.1)\n",
            "Requirement already satisfied: tableprint in /usr/local/lib/python3.10/dist-packages (from torchdeepretina==0.1.0) (0.9.1)\n",
            "Requirement already satisfied: scikit-learn in /usr/local/lib/python3.10/dist-packages (from torchdeepretina==0.1.0) (1.2.2)\n",
            "Requirement already satisfied: scikit-image in /usr/local/lib/python3.10/dist-packages (from torchdeepretina==0.1.0) (0.19.3)\n",
            "Requirement already satisfied: h5py in /usr/local/lib/python3.10/dist-packages (from torchdeepretina==0.1.0) (3.9.0)\n",
            "Requirement already satisfied: descent in /usr/local/lib/python3.10/dist-packages (from torchdeepretina==0.1.0) (0.2.5)\n",
            "Requirement already satisfied: deepdish in /usr/local/lib/python3.10/dist-packages (from torchdeepretina==0.1.0) (0.3.7)\n",
            "Requirement already satisfied: pyret in /usr/local/lib/python3.10/dist-packages (from torchdeepretina==0.1.0) (0.6.0)\n",
            "Requirement already satisfied: moviepy in /usr/local/lib/python3.10/dist-packages (from torchdeepretina==0.1.0) (1.0.3)\n",
            "Requirement already satisfied: psutil in /usr/local/lib/python3.10/dist-packages (from torchdeepretina==0.1.0) (5.9.5)\n",
            "Requirement already satisfied: tables in /usr/local/lib/python3.10/dist-packages (from deepdish->torchdeepretina==0.1.0) (3.8.0)\n",
            "Requirement already satisfied: six in /usr/local/lib/python3.10/dist-packages (from descent->torchdeepretina==0.1.0) (1.16.0)\n",
            "Requirement already satisfied: toolz in /usr/local/lib/python3.10/dist-packages (from descent->torchdeepretina==0.1.0) (0.12.0)\n",
            "Requirement already satisfied: multipledispatch in /usr/local/lib/python3.10/dist-packages (from descent->torchdeepretina==0.1.0) (1.0.0)\n",
            "Requirement already satisfied: custom-inherit in /usr/local/lib/python3.10/dist-packages (from descent->torchdeepretina==0.1.0) (2.4.1)\n",
            "Requirement already satisfied: contourpy>=1.0.1 in /usr/local/lib/python3.10/dist-packages (from matplotlib->torchdeepretina==0.1.0) (1.1.1)\n",
            "Requirement already satisfied: cycler>=0.10 in /usr/local/lib/python3.10/dist-packages (from matplotlib->torchdeepretina==0.1.0) (0.12.1)\n",
            "Requirement already satisfied: fonttools>=4.22.0 in /usr/local/lib/python3.10/dist-packages (from matplotlib->torchdeepretina==0.1.0) (4.43.1)\n",
            "Requirement already satisfied: kiwisolver>=1.0.1 in /usr/local/lib/python3.10/dist-packages (from matplotlib->torchdeepretina==0.1.0) (1.4.5)\n",
            "Requirement already satisfied: packaging>=20.0 in /usr/local/lib/python3.10/dist-packages (from matplotlib->torchdeepretina==0.1.0) (23.2)\n",
            "Requirement already satisfied: pillow>=6.2.0 in /usr/local/lib/python3.10/dist-packages (from matplotlib->torchdeepretina==0.1.0) (9.4.0)\n",
            "Requirement already satisfied: pyparsing>=2.3.1 in /usr/local/lib/python3.10/dist-packages (from matplotlib->torchdeepretina==0.1.0) (3.1.1)\n",
            "Requirement already satisfied: python-dateutil>=2.7 in /usr/local/lib/python3.10/dist-packages (from matplotlib->torchdeepretina==0.1.0) (2.8.2)\n",
            "Requirement already satisfied: decorator<5.0,>=4.0.2 in /usr/local/lib/python3.10/dist-packages (from moviepy->torchdeepretina==0.1.0) (4.4.2)\n",
            "Requirement already satisfied: requests<3.0,>=2.8.1 in /usr/local/lib/python3.10/dist-packages (from moviepy->torchdeepretina==0.1.0) (2.31.0)\n",
            "Requirement already satisfied: proglog<=1.0.0 in /usr/local/lib/python3.10/dist-packages (from moviepy->torchdeepretina==0.1.0) (0.1.10)\n",
            "Requirement already satisfied: imageio<3.0,>=2.5 in /usr/local/lib/python3.10/dist-packages (from moviepy->torchdeepretina==0.1.0) (2.31.5)\n",
            "Requirement already satisfied: imageio-ffmpeg>=0.2.0 in /usr/local/lib/python3.10/dist-packages (from moviepy->torchdeepretina==0.1.0) (0.4.9)\n",
            "Requirement already satisfied: networkx>=2.2 in /usr/local/lib/python3.10/dist-packages (from scikit-image->torchdeepretina==0.1.0) (3.2)\n",
            "Requirement already satisfied: tifffile>=2019.7.26 in /usr/local/lib/python3.10/dist-packages (from scikit-image->torchdeepretina==0.1.0) (2023.9.26)\n",
            "Requirement already satisfied: PyWavelets>=1.1.1 in /usr/local/lib/python3.10/dist-packages (from scikit-image->torchdeepretina==0.1.0) (1.4.1)\n",
            "Requirement already satisfied: joblib>=1.1.1 in /usr/local/lib/python3.10/dist-packages (from scikit-learn->torchdeepretina==0.1.0) (1.3.2)\n",
            "Requirement already satisfied: threadpoolctl>=2.0.0 in /usr/local/lib/python3.10/dist-packages (from scikit-learn->torchdeepretina==0.1.0) (3.2.0)\n",
            "Requirement already satisfied: future in /usr/local/lib/python3.10/dist-packages (from tableprint->torchdeepretina==0.1.0) (0.18.3)\n",
            "Requirement already satisfied: wcwidth in /usr/local/lib/python3.10/dist-packages (from tableprint->torchdeepretina==0.1.0) (0.2.8)\n",
            "Requirement already satisfied: filelock in /usr/local/lib/python3.10/dist-packages (from torch->torchdeepretina==0.1.0) (3.12.4)\n",
            "Requirement already satisfied: typing-extensions in /usr/local/lib/python3.10/dist-packages (from torch->torchdeepretina==0.1.0) (4.5.0)\n",
            "Requirement already satisfied: sympy in /usr/local/lib/python3.10/dist-packages (from torch->torchdeepretina==0.1.0) (1.12)\n",
            "Requirement already satisfied: jinja2 in /usr/local/lib/python3.10/dist-packages (from torch->torchdeepretina==0.1.0) (3.1.2)\n",
            "Requirement already satisfied: fsspec in /usr/local/lib/python3.10/dist-packages (from torch->torchdeepretina==0.1.0) (2023.6.0)\n",
            "Requirement already satisfied: triton==2.1.0 in /usr/local/lib/python3.10/dist-packages (from torch->torchdeepretina==0.1.0) (2.1.0)\n",
            "Requirement already satisfied: setuptools in /usr/local/lib/python3.10/dist-packages (from imageio-ffmpeg>=0.2.0->moviepy->torchdeepretina==0.1.0) (67.7.2)\n",
            "Requirement already satisfied: charset-normalizer<4,>=2 in /usr/local/lib/python3.10/dist-packages (from requests<3.0,>=2.8.1->moviepy->torchdeepretina==0.1.0) (3.3.0)\n",
            "Requirement already satisfied: idna<4,>=2.5 in /usr/local/lib/python3.10/dist-packages (from requests<3.0,>=2.8.1->moviepy->torchdeepretina==0.1.0) (3.4)\n",
            "Requirement already satisfied: urllib3<3,>=1.21.1 in /usr/local/lib/python3.10/dist-packages (from requests<3.0,>=2.8.1->moviepy->torchdeepretina==0.1.0) (2.0.7)\n",
            "Requirement already satisfied: certifi>=2017.4.17 in /usr/local/lib/python3.10/dist-packages (from requests<3.0,>=2.8.1->moviepy->torchdeepretina==0.1.0) (2023.7.22)\n",
            "Requirement already satisfied: MarkupSafe>=2.0 in /usr/local/lib/python3.10/dist-packages (from jinja2->torch->torchdeepretina==0.1.0) (2.1.3)\n",
            "Requirement already satisfied: mpmath>=0.19 in /usr/local/lib/python3.10/dist-packages (from sympy->torch->torchdeepretina==0.1.0) (1.3.0)\n",
            "Requirement already satisfied: cython>=0.29.21 in /usr/local/lib/python3.10/dist-packages (from tables->deepdish->torchdeepretina==0.1.0) (3.0.4)\n",
            "Requirement already satisfied: numexpr>=2.6.2 in /usr/local/lib/python3.10/dist-packages (from tables->deepdish->torchdeepretina==0.1.0) (2.8.7)\n",
            "Requirement already satisfied: blosc2~=2.0.0 in /usr/local/lib/python3.10/dist-packages (from tables->deepdish->torchdeepretina==0.1.0) (2.0.0)\n",
            "Requirement already satisfied: py-cpuinfo in /usr/local/lib/python3.10/dist-packages (from tables->deepdish->torchdeepretina==0.1.0) (9.0.0)\n",
            "Requirement already satisfied: msgpack in /usr/local/lib/python3.10/dist-packages (from blosc2~=2.0.0->tables->deepdish->torchdeepretina==0.1.0) (1.0.7)\n",
            "Installing collected packages: torchdeepretina\n",
            "  Running setup.py develop for torchdeepretina\n",
            "Successfully installed torchdeepretina-0.1.0\n",
            "Collecting captum\n",
            "  Downloading captum-0.6.0-py3-none-any.whl (1.3 MB)\n",
            "\u001b[2K     \u001b[90m━━━━━━━━━━━━━━━━━━━━━━━━━━━━━━━━━━━━━━━━\u001b[0m \u001b[32m1.3/1.3 MB\u001b[0m \u001b[31m12.5 MB/s\u001b[0m eta \u001b[36m0:00:00\u001b[0m\n",
            "\u001b[?25hRequirement already satisfied: matplotlib in /usr/local/lib/python3.10/dist-packages (from captum) (3.7.1)\n",
            "Requirement already satisfied: numpy in /usr/local/lib/python3.10/dist-packages (from captum) (1.23.5)\n",
            "Requirement already satisfied: torch>=1.6 in /usr/local/lib/python3.10/dist-packages (from captum) (2.1.0+cu118)\n",
            "Requirement already satisfied: filelock in /usr/local/lib/python3.10/dist-packages (from torch>=1.6->captum) (3.12.4)\n",
            "Requirement already satisfied: typing-extensions in /usr/local/lib/python3.10/dist-packages (from torch>=1.6->captum) (4.5.0)\n",
            "Requirement already satisfied: sympy in /usr/local/lib/python3.10/dist-packages (from torch>=1.6->captum) (1.12)\n",
            "Requirement already satisfied: networkx in /usr/local/lib/python3.10/dist-packages (from torch>=1.6->captum) (3.2)\n",
            "Requirement already satisfied: jinja2 in /usr/local/lib/python3.10/dist-packages (from torch>=1.6->captum) (3.1.2)\n",
            "Requirement already satisfied: fsspec in /usr/local/lib/python3.10/dist-packages (from torch>=1.6->captum) (2023.6.0)\n",
            "Requirement already satisfied: triton==2.1.0 in /usr/local/lib/python3.10/dist-packages (from torch>=1.6->captum) (2.1.0)\n",
            "Requirement already satisfied: contourpy>=1.0.1 in /usr/local/lib/python3.10/dist-packages (from matplotlib->captum) (1.1.1)\n",
            "Requirement already satisfied: cycler>=0.10 in /usr/local/lib/python3.10/dist-packages (from matplotlib->captum) (0.12.1)\n",
            "Requirement already satisfied: fonttools>=4.22.0 in /usr/local/lib/python3.10/dist-packages (from matplotlib->captum) (4.43.1)\n",
            "Requirement already satisfied: kiwisolver>=1.0.1 in /usr/local/lib/python3.10/dist-packages (from matplotlib->captum) (1.4.5)\n",
            "Requirement already satisfied: packaging>=20.0 in /usr/local/lib/python3.10/dist-packages (from matplotlib->captum) (23.2)\n",
            "Requirement already satisfied: pillow>=6.2.0 in /usr/local/lib/python3.10/dist-packages (from matplotlib->captum) (9.4.0)\n",
            "Requirement already satisfied: pyparsing>=2.3.1 in /usr/local/lib/python3.10/dist-packages (from matplotlib->captum) (3.1.1)\n",
            "Requirement already satisfied: python-dateutil>=2.7 in /usr/local/lib/python3.10/dist-packages (from matplotlib->captum) (2.8.2)\n",
            "Requirement already satisfied: six>=1.5 in /usr/local/lib/python3.10/dist-packages (from python-dateutil>=2.7->matplotlib->captum) (1.16.0)\n",
            "Requirement already satisfied: MarkupSafe>=2.0 in /usr/local/lib/python3.10/dist-packages (from jinja2->torch>=1.6->captum) (2.1.3)\n",
            "Requirement already satisfied: mpmath>=0.19 in /usr/local/lib/python3.10/dist-packages (from sympy->torch>=1.6->captum) (1.3.0)\n",
            "Installing collected packages: captum\n",
            "Successfully installed captum-0.6.0\n"
          ]
        }
      ]
    },
    {
      "cell_type": "code",
      "source": [
        "#navigate to training_scripts folder and download data\n",
        "%cd training_scripts\n",
        "! wget https://stacks.stanford.edu/file/druid:rk663dm5577/neural_code_data.zip\n",
        "! unzip neural_code_data.zip"
      ],
      "metadata": {
        "colab": {
          "base_uri": "https://localhost:8080/"
        },
        "id": "fE-uKhV9rxtI",
        "outputId": "e960ce42-737c-40a6-d090-6005a86fc762"
      },
      "execution_count": null,
      "outputs": [
        {
          "output_type": "stream",
          "name": "stdout",
          "text": [
            "/content/torch-deep-retina/training_scripts\n",
            "--2023-10-24 08:27:25--  https://stacks.stanford.edu/file/druid:rk663dm5577/neural_code_data.zip\n",
            "Resolving stacks.stanford.edu (stacks.stanford.edu)... 171.67.37.91\n",
            "Connecting to stacks.stanford.edu (stacks.stanford.edu)|171.67.37.91|:443... connected.\n",
            "HTTP request sent, awaiting response... 200 OK\n",
            "Length: 1199515850 (1.1G) [application/zip]\n",
            "Saving to: ‘neural_code_data.zip’\n",
            "\n",
            "neural_code_data.zi  14%[=>                  ] 168.95M  1.26MB/s    eta 15m 45s"
          ]
        }
      ]
    },
    {
      "cell_type": "code",
      "source": [
        "%cd .."
      ],
      "metadata": {
        "colab": {
          "base_uri": "https://localhost:8080/"
        },
        "id": "gXTg2PvVJD2P",
        "outputId": "12610c2c-59ae-49a4-b3a6-cdb58d0891a0"
      },
      "execution_count": null,
      "outputs": [
        {
          "output_type": "stream",
          "name": "stdout",
          "text": [
            "/content/torch-deep-retina\n"
          ]
        }
      ]
    },
    {
      "cell_type": "code",
      "source": [
        "from captum.attr import Saliency\n",
        "import torchdeepretina.io as tdrio\n",
        "import torchdeepretina.training as training_scripts\n",
        "from torchdeepretina.utils import load_json\n",
        "import tables\n",
        "import matplotlib.pyplot as plt\n"
      ],
      "metadata": {
        "id": "sR5FR4Ls_9Fw",
        "colab": {
          "base_uri": "https://localhost:8080/"
        },
        "outputId": "94b0c2c1-0cea-434a-c94b-dbedf8271a7b"
      },
      "execution_count": null,
      "outputs": [
        {
          "output_type": "stream",
          "name": "stdout",
          "text": [
            "f2_response is unavailable until you run:\n",
            "$ pip install -e git+git://github.com/nirum/jetpack.git@master#egg=jetpack\n"
          ]
        }
      ]
    },
    {
      "cell_type": "code",
      "source": [
        "#move data to the right place, make sure you're in the training_scripts working directory\n",
        "%cd training_scripts\n",
        "%cd neural_code_data\n",
        "!mv ganglion_cell_data/* ./\n",
        "%cd ..\n"
      ],
      "metadata": {
        "colab": {
          "base_uri": "https://localhost:8080/"
        },
        "id": "qyn81OC5Cnj6",
        "outputId": "e36e5f09-698a-4b6b-ba16-0495ee2b246c"
      },
      "execution_count": null,
      "outputs": [
        {
          "output_type": "stream",
          "name": "stdout",
          "text": [
            "/content/torch-deep-retina/training_scripts\n",
            "/content/torch-deep-retina/training_scripts/neural_code_data\n",
            "/content/torch-deep-retina/training_scripts\n"
          ]
        }
      ]
    },
    {
      "cell_type": "code",
      "source": [
        "%cd 15-10-07"
      ],
      "metadata": {
        "colab": {
          "base_uri": "https://localhost:8080/"
        },
        "id": "oymkYZ47faaE",
        "outputId": "278a372c-0c31-4061-cfe5-ed74410cfd48"
      },
      "execution_count": null,
      "outputs": [
        {
          "output_type": "stream",
          "name": "stdout",
          "text": [
            "/content/torch-deep-retina/training_scripts/neural_code_data\n",
            "/content/torch-deep-retina/training_scripts/neural_code_data/15-10-07\n"
          ]
        }
      ]
    },
    {
      "cell_type": "code",
      "source": [
        "%cd .."
      ],
      "metadata": {
        "colab": {
          "base_uri": "https://localhost:8080/"
        },
        "id": "jJhtQ-daJS9p",
        "outputId": "f3057327-0859-49bf-fc20-2c6d30828a44"
      },
      "execution_count": null,
      "outputs": [
        {
          "output_type": "stream",
          "name": "stdout",
          "text": [
            "/content/torch-deep-retina\n"
          ]
        }
      ]
    },
    {
      "cell_type": "code",
      "source": [
        "#need to be in torch-deep-retina for this\n",
        "model_file = '/content/torch-deep-retina/training_scripts/skip_wn_0_lr0.005'\n",
        "\n",
        "model = tdrio.load_model(model_file)\n"
      ],
      "metadata": {
        "id": "UnK96z0zrm84"
      },
      "execution_count": null,
      "outputs": []
    },
    {
      "cell_type": "code",
      "source": [
        "model.eval()\n"
      ],
      "metadata": {
        "colab": {
          "base_uri": "https://localhost:8080/"
        },
        "id": "zLGb5PYYU94N",
        "outputId": "d4dff987-5350-4026-9a85-4730cabe691c"
      },
      "execution_count": null,
      "outputs": [
        {
          "output_type": "execute_result",
          "data": {
            "text/plain": [
              "VaryModel(\n",
              "  n_units=5, noise=0.05, bias=True, gc_bias=False, chans=[8, 8], bn_moment=0.01, softplus=True, inference_exp=False, img_shape=(40, 50, 50), ksizes=[15, 11, 11]\n",
              "  (sequential): Sequential(\n",
              "    (0): LinearStackedConv2d(\n",
              "      bias=True, abs_bnorm=False, padding=0\n",
              "      (convs): Sequential(\n",
              "        (0): Conv2d(40, 8, kernel_size=(3, 3), stride=(1, 1), bias=False)\n",
              "        (1): Dropout(p=0.05, inplace=False)\n",
              "        (2): Conv2d(8, 8, kernel_size=(3, 3), stride=(1, 1), bias=False)\n",
              "        (3): Dropout(p=0.05, inplace=False)\n",
              "        (4): Conv2d(8, 8, kernel_size=(3, 3), stride=(1, 1), bias=False)\n",
              "        (5): Dropout(p=0.05, inplace=False)\n",
              "        (6): Conv2d(8, 8, kernel_size=(3, 3), stride=(1, 1), bias=False)\n",
              "        (7): Dropout(p=0.05, inplace=False)\n",
              "        (8): Conv2d(8, 8, kernel_size=(3, 3), stride=(1, 1), bias=False)\n",
              "        (9): Dropout(p=0.05, inplace=False)\n",
              "        (10): Conv2d(8, 8, kernel_size=(3, 3), stride=(1, 1), bias=False)\n",
              "        (11): Dropout(p=0.05, inplace=False)\n",
              "        (12): Conv2d(8, 8, kernel_size=(3, 3), stride=(1, 1))\n",
              "      )\n",
              "    )\n",
              "    (1): AbsBatchNorm2d(bias=True, abs_bias=False, momentum=0.01, eps=0.001)\n",
              "    (2): GaussianNoise(std=0.05, trainable=False, adapt=False, momentum=None)\n",
              "    (3): ReLU()\n",
              "    (4): LinearStackedConv2d(\n",
              "      bias=True, abs_bnorm=False, padding=0\n",
              "      (convs): Sequential(\n",
              "        (0): Conv2d(8, 8, kernel_size=(3, 3), stride=(1, 1), bias=False)\n",
              "        (1): Dropout(p=0.05, inplace=False)\n",
              "        (2): Conv2d(8, 8, kernel_size=(3, 3), stride=(1, 1), bias=False)\n",
              "        (3): Dropout(p=0.05, inplace=False)\n",
              "        (4): Conv2d(8, 8, kernel_size=(3, 3), stride=(1, 1), bias=False)\n",
              "        (5): Dropout(p=0.05, inplace=False)\n",
              "        (6): Conv2d(8, 8, kernel_size=(3, 3), stride=(1, 1), bias=False)\n",
              "        (7): Dropout(p=0.05, inplace=False)\n",
              "        (8): Conv2d(8, 8, kernel_size=(3, 3), stride=(1, 1))\n",
              "      )\n",
              "    )\n",
              "    (5): AbsBatchNorm2d(bias=True, abs_bias=False, momentum=0.01, eps=0.001)\n",
              "    (6): GaussianNoise(std=0.05, trainable=False, adapt=False, momentum=None)\n",
              "    (7): ReLU()\n",
              "    (8): Conv2d(8, 5, kernel_size=(11, 11), stride=(1, 1), bias=False)\n",
              "    (9): GrabUnits(\n",
              "      c0: tensor([3, 0]),\n",
              "      c1: tensor([6, 2]),\n",
              "      c2: tensor([4, 0]),\n",
              "      c3: tensor([9, 0]),\n",
              "      c4: tensor([13,  2])\n",
              "    )\n",
              "    (10): AbsBatchNorm1d(bias=True, abs_bias=False, momentum=0.01, eps=0.001)\n",
              "    (11): Softplus(beta=1, threshold=20)\n",
              "  )\n",
              ")"
            ]
          },
          "metadata": {},
          "execution_count": 12
        }
      ]
    },
    {
      "cell_type": "code",
      "source": [
        "params_file = 'training_scripts/hyperparams.json'\n",
        "hyps = load_json(params_file)\n",
        "test_data, train_data = training_scripts.get_data(hyps)\n"
      ],
      "metadata": {
        "id": "KYsf-xkx5vYg"
      },
      "execution_count": null,
      "outputs": []
    },
    {
      "cell_type": "code",
      "source": [
        "import torch\n",
        "#print(\"Stimulus (X):\", test_data.X)\n",
        "#print(\"Labels (y):\", test_data.y)\n",
        "\n",
        "test_data = test_data.X\n",
        "test_data = torch.from_numpy(test_data)\n",
        "print(test_data.shape)"
      ],
      "metadata": {
        "colab": {
          "base_uri": "https://localhost:8080/"
        },
        "id": "qUb7fd1W7blL",
        "outputId": "bec17b84-3e01-4a13-ede9-205f9b1c0a35"
      },
      "execution_count": null,
      "outputs": [
        {
          "output_type": "stream",
          "name": "stdout",
          "text": [
            "torch.Size([359762, 40, 50, 50])\n"
          ]
        }
      ]
    },
    {
      "cell_type": "code",
      "source": [
        "example_image = test_data[:1]\n",
        "\n",
        "with torch.no_grad():\n",
        "  output = model(example_image)\n",
        "\n",
        "spike_pred = output\n",
        "print(spike_pred)"
      ],
      "metadata": {
        "colab": {
          "base_uri": "https://localhost:8080/"
        },
        "id": "jT27N9peVL-j",
        "outputId": "e90c1d66-3929-4b55-b9c1-49bb6f220d2f"
      },
      "execution_count": null,
      "outputs": [
        {
          "output_type": "stream",
          "name": "stdout",
          "text": [
            "tensor([[0.3600, 7.1406, 0.4404, 3.3486, 0.0129]])\n"
          ]
        }
      ]
    },
    {
      "cell_type": "code",
      "source": [
        "test_sample = test_data[:40]\n",
        "print(test_sample.shape)"
      ],
      "metadata": {
        "colab": {
          "base_uri": "https://localhost:8080/"
        },
        "id": "Ml0O6MMOKSZj",
        "outputId": "7fb60ad2-1416-4b49-c13c-647018322449"
      },
      "execution_count": null,
      "outputs": [
        {
          "output_type": "stream",
          "name": "stdout",
          "text": [
            "torch.Size([40, 40, 50, 50])\n"
          ]
        }
      ]
    },
    {
      "cell_type": "code",
      "source": [
        "test_image = test_sample[0]\n",
        "test_image = test_image.numpy()\n",
        "plt.imshow(test_image[0], cmap='gray')  # Displaying the first \"slice\" of the 3D data\n",
        "plt.colorbar()  # Add a colorbar for reference\n",
        "plt.show()\n"
      ],
      "metadata": {
        "colab": {
          "base_uri": "https://localhost:8080/",
          "height": 432
        },
        "id": "h6hGrDn-OWb_",
        "outputId": "bb305c96-5193-45b6-9b8c-23413008993b"
      },
      "execution_count": null,
      "outputs": [
        {
          "output_type": "display_data",
          "data": {
            "text/plain": [
              "<Figure size 640x480 with 2 Axes>"
            ],
            "image/png": "[encoded data removed]"
          },
          "metadata": {}
        }
      ]
    },
    {
      "cell_type": "code",
      "source": [
        "saliency = Saliency(model)\n",
        "saliency_map = saliency.attribute(test_sample, target = 2)\n",
        "print(saliency_map.shape)"
      ],
      "metadata": {
        "colab": {
          "base_uri": "https://localhost:8080/"
        },
        "id": "s9lMeNBIwLtm",
        "outputId": "b13a279d-f56e-46c5-c460-46842da0313d"
      },
      "execution_count": null,
      "outputs": [
        {
          "output_type": "stream",
          "name": "stdout",
          "text": [
            "torch.Size([40, 40, 50, 50])\n"
          ]
        }
      ]
    },
    {
      "cell_type": "code",
      "source": [
        "# Visualize the saliency map\n",
        "\n",
        "saliency_map_to_visualize = saliency_map[0]  # Extracting the first saliency map (index 0)\n",
        "print(saliency_map_to_visualize.shape)\n",
        "# Assuming your saliency map is a PyTorch tensor, convert it to a NumPy array\n",
        "saliency_map_numpy = saliency_map_to_visualize.detach().cpu().numpy()\n",
        "\n",
        "# Visualize the saliency map as a heatmap\n",
        "plt.imshow(saliency_map_numpy[0], cmap='hot', interpolation='nearest')\n",
        "plt.title('Saliency Map Visualization')\n",
        "plt.colorbar()  # Add a colorbar to show the scale\n",
        "plt.show()"
      ],
      "metadata": {
        "colab": {
          "base_uri": "https://localhost:8080/",
          "height": 470
        },
        "id": "S0s6xpuIK0xR",
        "outputId": "ea470d8f-d58e-47b3-ea36-f10da03e8d13"
      },
      "execution_count": null,
      "outputs": [
        {
          "output_type": "stream",
          "name": "stdout",
          "text": [
            "torch.Size([40, 50, 50])\n"
          ]
        },
        {
          "output_type": "display_data",
          "data": {
            "text/plain": [
              "<Figure size 640x480 with 2 Axes>"
            ],
            "image/png": "[encoded data removed]"
          },
          "metadata": {}
        }
      ]
    },
    {
      "cell_type": "code",
      "source": [
        "from captum.attr import LayerIntegratedGradients, LayerGradientXActivation"
      ],
      "metadata": {
        "id": "Y43CAH2PRpVI"
      },
      "execution_count": null,
      "outputs": []
    },
    {
      "cell_type": "code",
      "source": [
        "attribution = LayerIntegratedGradients(model, model.sequential[0].convs[0])\n",
        "\n",
        "# Compute saliency maps for each layer\n",
        "test_sample.requires_grad_()\n",
        "attributions = attribution.attribute(test_sample, target= 2)\n",
        "attributions_example = attributions[0]\n",
        "attributions_example = attributions_example.squeeze().cpu().detach().numpy()\n",
        "print(attributions_example.shape)"
      ],
      "metadata": {
        "id": "aMFViO_pRqXl",
        "colab": {
          "base_uri": "https://localhost:8080/"
        },
        "outputId": "ece76308-7b29-4a2c-8867-63ba5022ace1"
      },
      "execution_count": null,
      "outputs": [
        {
          "output_type": "stream",
          "name": "stdout",
          "text": [
            "(8, 48, 48)\n"
          ]
        }
      ]
    },
    {
      "cell_type": "code",
      "source": [
        "# Visualize the saliency map for a specific input\n",
        "\n",
        "plt.imshow(attributions_example[0], cmap='hot')\n",
        "plt.title('Saliency Map Visualization')\n",
        "plt.colorbar()  # Add a colorbar to show the scale\n",
        "plt.show()"
      ],
      "metadata": {
        "colab": {
          "base_uri": "https://localhost:8080/",
          "height": 452
        },
        "id": "FUGSTdyXZD30",
        "outputId": "6f591c3c-7577-4121-fb9e-c0131f832d85"
      },
      "execution_count": null,
      "outputs": [
        {
          "output_type": "display_data",
          "data": {
            "text/plain": [
              "<Figure size 640x480 with 2 Axes>"
            ],
            "image/png": "[encoded data removed]"
          },
          "metadata": {}
        }
      ]
    },
    {
      "cell_type": "code",
      "source": [
        "attribution_layer2 = LayerIntegratedGradients(model, model.sequential[4].convs[8])\n",
        "\n",
        "# Compute saliency maps for each layer\n",
        "test_sample.requires_grad_()\n",
        "attributions_layer2 = attribution_layer2.attribute(test_sample, target= 2)\n",
        "attributions_example_layer2 = attributions_layer2[0]\n",
        "attributions_example_layer2 = attributions_example_layer2.squeeze().cpu().detach().numpy()\n",
        "print(attributions_example_layer2.shape)"
      ],
      "metadata": {
        "colab": {
          "base_uri": "https://localhost:8080/"
        },
        "id": "B3pygOMAbVWm",
        "outputId": "8b3eef64-1829-43e5-8dad-efe046cc9341"
      },
      "execution_count": null,
      "outputs": [
        {
          "output_type": "stream",
          "name": "stdout",
          "text": [
            "(8, 26, 26)\n"
          ]
        }
      ]
    },
    {
      "cell_type": "code",
      "source": [
        "# Visualize the saliency map for a specific input\n",
        "\n",
        "plt.imshow(attributions_example_layer2[0], cmap='hot', interpolation='nearest')\n",
        "plt.title('Saliency Map Visualization')\n",
        "plt.colorbar()  # Add a colorbar to show the scale\n",
        "plt.show()"
      ],
      "metadata": {
        "colab": {
          "base_uri": "https://localhost:8080/",
          "height": 452
        },
        "id": "BgWDsk7Cbgue",
        "outputId": "8da1144b-7cba-4e9f-819c-d78db960c78c"
      },
      "execution_count": null,
      "outputs": [
        {
          "output_type": "display_data",
          "data": {
            "text/plain": [
              "<Figure size 640x480 with 2 Axes>"
            ],
            "image/png": "[encoded data removed]"
          },
          "metadata": {}
        }
      ]
    },
    {
      "cell_type": "code",
      "source": [
        "#before you run the script below you need to go to the hyperparams.json file and change the data path to this:\n",
        "#\"/content/torch-deep-retina/training_scripts/neural_code_data/\" and also change exp_name from \"test\", but it\n",
        "# can't include a number after an underscore (so not exp_1) and change around any other hyperparameters\n"
      ],
      "metadata": {
        "id": "JMYQMM4pH1ne"
      },
      "execution_count": null,
      "outputs": []
    },
    {
      "cell_type": "code",
      "source": [
        "#run this to start training (make sure you're using GPU)\n",
        "! python3 main.py params=hyperparams.json ranges=hyperranges.json"
      ],
      "metadata": {
        "colab": {
          "base_uri": "https://localhost:8080/"
        },
        "id": "_YUx0GpGr3G9",
        "outputId": "f2f12695-6a9c-4ef8-cb50-6acf7e9bcd79"
      },
      "execution_count": null,
      "outputs": [
        {
          "output_type": "stream",
          "name": "stdout",
          "text": [
            "error: XDG_RUNTIME_DIR not set in the environment.\n",
            "ALSA lib confmisc.c:855:(parse_card) cannot find card '0'\n",
            "ALSA lib conf.c:5178:(_snd_config_evaluate) function snd_func_card_inum returned error: No such file or directory\n",
            "ALSA lib confmisc.c:422:(snd_func_concat) error evaluating strings\n",
            "ALSA lib conf.c:5178:(_snd_config_evaluate) function snd_func_concat returned error: No such file or directory\n",
            "ALSA lib confmisc.c:1334:(snd_func_refer) error evaluating name\n",
            "ALSA lib conf.c:5178:(_snd_config_evaluate) function snd_func_refer returned error: No such file or directory\n",
            "ALSA lib conf.c:5701:(snd_config_expand) Evaluate error: No such file or directory\n",
            "ALSA lib pcm.c:2664:(snd_pcm_open_noupdate) Unknown PCM default\n",
            "ALSA lib confmisc.c:855:(parse_card) cannot find card '0'\n",
            "ALSA lib conf.c:5178:(_snd_config_evaluate) function snd_func_card_inum returned error: No such file or directory\n",
            "ALSA lib confmisc.c:422:(snd_func_concat) error evaluating strings\n",
            "ALSA lib conf.c:5178:(_snd_config_evaluate) function snd_func_concat returned error: No such file or directory\n",
            "ALSA lib confmisc.c:1334:(snd_func_refer) error evaluating name\n",
            "ALSA lib conf.c:5178:(_snd_config_evaluate) function snd_func_refer returned error: No such file or directory\n",
            "ALSA lib conf.c:5701:(snd_config_expand) Evaluate error: No such file or directory\n",
            "ALSA lib pcm.c:2664:(snd_pcm_open_noupdate) Unknown PCM default\n",
            "f2_response is unavailable until you run:\n",
            "$ pip install -e git+git://github.com/nirum/jetpack.git@master#egg=jetpack\n",
            "\n",
            "Using hyperparams file: hyperparams.json\n",
            "Using hyperranges file: None\n",
            "\n",
            "Hyperparameters:\n",
            "exp_name: baseline_wn\n",
            "exp_num_offset: 0\n",
            "description: replication of their results with white noise\n",
            "n_repeats: 1\n",
            "cross_val: False\n",
            "cross_val_idx: None\n",
            "n_cv_folds: 10\n",
            "seed: None\n",
            "save_every_epoch: False\n",
            "startpt: None\n",
            "datapath: /content/torch-deep-retina/training_scripts/neural_code_data/\n",
            "dataset: 15-10-07\n",
            "cells: all\n",
            "stim_type: whitenoise\n",
            "shift_labels: False\n",
            "lossfxn: PoissonNLLLoss\n",
            "log_poisson: False\n",
            "model_type: VaryModel\n",
            "bias: True\n",
            "bnorm: True\n",
            "bnorm_d: 2\n",
            "n_layers: 3\n",
            "activ_fxn: ReLU\n",
            "softplus: True\n",
            "chans: [8, 8]\n",
            "ksizes: [15, 11, 11]\n",
            "groups: 1\n",
            "img_shape: [40, 50, 50]\n",
            "stackconvs: True\n",
            "finalstack: False\n",
            "bnaftrelu: False\n",
            "convgc: True\n",
            "shuffle: True\n",
            "rand_sample: True\n",
            "batch_size: 2500\n",
            "n_epochs: 40\n",
            "l1: 0.0001\n",
            "l2: 0.001\n",
            "noise: 0.05\n",
            "drop_p: 0.05\n",
            "gc_bias: False\n",
            "bn_moment: 0.01\n",
            "scheduler: ReduceLROnPlateau\n",
            "scheduler_scale: 0.5\n",
            "scheduler_patience: 6\n",
            "prune: False\n",
            "prune_layers: []\n",
            "prune_intvl: 15\n",
            "prune_tolerance: 0.01\n",
            "min_prune_acc: 0\n",
            "alpha_steps: 10\n",
            "intg_bsize: 500\n",
            "zero_bias: False\n",
            "reset_lr: False\n",
            "reset_sd: False\n",
            "abssum: False\n",
            "altn_layers: False\n",
            "retinotopic: False\n",
            "rand_onehot: False\n",
            "semantic_scale: 0\n",
            "semantic_l1: 0\n",
            "\n",
            "\n",
            "Searching over:\n",
            "lr: [0.005]\n",
            "You have 8 seconds to cancel experiment name /content/torch-deep-retina/training_scripts/baseline_wn:\n",
            "\n",
            "n_searches: 1\n",
            "Starting Hyperloop\n",
            "Searches left: 1 -- Running Time: 0.00046372413635253906\n",
            "Beginning training for /content/torch-deep-retina/training_scripts/baseline_wn/baseline_wn_0_lr0.005 -- CV 0\n",
            "Train Shape: (323786, 40, 50, 50)\n",
            "Valid Shape: (35976, 40, 50, 50)\n",
            "train shape: (323786, 40, 50, 50)\n",
            "val shape: (35976, 40, 50, 50)\n",
            "Beginning Epoch 0/40 --  /content/torch-deep-retina/training_scripts/baseline_wn/baseline_wn_0_lr0.005 -- CV 0/10\n",
            "\n",
            "Loss: -1.33684e+00 | 128/129       \n",
            "Validating\n",
            "Epoch 0 -- /content/torch-deep-retina/training_scripts/baseline_wn/baseline_wn_0_lr0.005 -- CV 0/10\n",
            "Avg Loss: -0.3838225945021755 -- Time: 156.08535599708557\n",
            "Val Cell Cors:0.66993874 | 0.49759668 | 0.43725526 | 0.6962392 | 0.4348541\n",
            "Val Cor: 0.5471767783164978 | Val Loss: -4.620347350822683\n",
            "Cell 0: 0.779114120765521\n",
            "Cell 1: 0.6633434987401836\n",
            "Cell 2: 0.6589448440880135\n",
            "Cell 3: 0.7968336374754674\n",
            "Cell 4: 0.5531130170974553\n",
            "Avg Test Pearson: 0.6902698236333282\n",
            "Memory Used: 8978.13 mb\n",
            "\n",
            "Beginning Epoch 1/40 --  /content/torch-deep-retina/training_scripts/baseline_wn/baseline_wn_0_lr0.005 -- CV 0/10\n",
            "\n",
            "Loss: -2.07217e+00 | 128/129       \n",
            "Validating\n",
            "Epoch 1 -- /content/torch-deep-retina/training_scripts/baseline_wn/baseline_wn_0_lr0.005 -- CV 0/10\n",
            "Avg Loss: -1.7356706894645395 -- Time: 156.2896990776062\n",
            "Val Cell Cors:0.6738505 | 0.5082899 | 0.44570103 | 0.7008779 | 0.49229127\n",
            "Val Cor: 0.564202070236206 | Val Loss: -4.826512470633172\n",
            "Cell 0: 0.7770621519690382\n",
            "Cell 1: 0.6829777789642962\n",
            "Cell 2: 0.6799939090884417\n",
            "Cell 3: 0.8063310597096323\n",
            "Cell 4: 0.6088131383593406\n",
            "Avg Test Pearson: 0.7110356076181498\n",
            "Memory Used: 8985.66 mb\n",
            "\n",
            "Beginning Epoch 2/40 --  /content/torch-deep-retina/training_scripts/baseline_wn/baseline_wn_0_lr0.005 -- CV 0/10\n",
            "\n",
            "Loss: -2.30931e+00 | 128/129       \n",
            "Validating\n",
            "Epoch 2 -- /content/torch-deep-retina/training_scripts/baseline_wn/baseline_wn_0_lr0.005 -- CV 0/10\n",
            "Avg Loss: -2.2337547817895578 -- Time: 156.3975372314453\n",
            "Val Cell Cors:0.6830313 | 0.5208739 | 0.449314 | 0.70917535 | 0.5283563\n",
            "Val Cor: 0.5781501531600952 | Val Loss: -5.065223993557263\n",
            "Cell 0: 0.7926655921480614\n",
            "Cell 1: 0.6988686338067672\n",
            "Cell 2: 0.6879736409933511\n",
            "Cell 3: 0.8116598464417686\n",
            "Cell 4: 0.6618274928997327\n",
            "Avg Test Pearson: 0.7305990412579363\n",
            "Memory Used: 8986.55 mb\n",
            "\n",
            "Beginning Epoch 3/40 --  /content/torch-deep-retina/training_scripts/baseline_wn/baseline_wn_0_lr0.005 -- CV 0/10\n",
            "\n",
            "Loss: -2.69096e+00 | 128/129       \n",
            "Validating\n",
            "Epoch 3 -- /content/torch-deep-retina/training_scripts/baseline_wn/baseline_wn_0_lr0.005 -- CV 0/10\n",
            "Avg Loss: -2.527461151744044 -- Time: 157.06958508491516\n",
            "Val Cell Cors:0.68382996 | 0.5132935 | 0.45530406 | 0.7048399 | 0.531474\n",
            "Val Cor: 0.5777482986450195 | Val Loss: -5.2497788191966475\n",
            "Cell 0: 0.7848855279485231\n",
            "Cell 1: 0.6912280936508031\n",
            "Cell 2: 0.6920176443648566\n",
            "Cell 3: 0.8069800319830411\n",
            "Cell 4: 0.6534035196561994\n",
            "Avg Test Pearson: 0.7257029635206845\n",
            "Memory Used: 8987.53 mb\n",
            "\n",
            "Beginning Epoch 4/40 --  /content/torch-deep-retina/training_scripts/baseline_wn/baseline_wn_0_lr0.005 -- CV 0/10\n",
            "\n",
            "Loss: -2.85366e+00 | 128/129       \n",
            "Validating\n",
            "Epoch 4 -- /content/torch-deep-retina/training_scripts/baseline_wn/baseline_wn_0_lr0.005 -- CV 0/10\n",
            "Avg Loss: -2.7227344771688298 -- Time: 156.89915537834167\n",
            "Val Cell Cors:0.7007055 | 0.52760106 | 0.45659283 | 0.725137 | 0.5778693\n",
            "Val Cor: 0.5975810885429382 | Val Loss: -5.0059394823546315\n",
            "Cell 0: 0.8022787876375465\n",
            "Cell 1: 0.7219545753017692\n",
            "Cell 2: 0.7070776948628665\n",
            "Cell 3: 0.820459490202932\n",
            "Cell 4: 0.6982803000142145\n",
            "Avg Test Pearson: 0.7500101696038658\n",
            "Memory Used: 8988.18 mb\n",
            "\n",
            "Beginning Epoch 5/40 --  /content/torch-deep-retina/training_scripts/baseline_wn/baseline_wn_0_lr0.005 -- CV 0/10\n",
            "\n",
            "Loss: -3.42584e+00 | 128/129       \n",
            "Validating\n",
            "Epoch 5 -- /content/torch-deep-retina/training_scripts/baseline_wn/baseline_wn_0_lr0.005 -- CV 0/10\n",
            "Avg Loss: -2.8578186755956607 -- Time: 155.38991737365723\n",
            "Val Cell Cors:0.69497013 | 0.5243994 | 0.4630567 | 0.71768683 | 0.5781305\n",
            "Val Cor: 0.5956487059593201 | Val Loss: -5.714938504545962\n",
            "Cell 0: 0.7997236743732494\n",
            "Cell 1: 0.71286334347792\n",
            "Cell 2: 0.6972207915424131\n",
            "Cell 3: 0.8153888109721107\n",
            "Cell 4: 0.7154780872259803\n",
            "Avg Test Pearson: 0.7481349415183347\n",
            "Memory Used: 8988.20 mb\n",
            "\n",
            "Beginning Epoch 6/40 --  /content/torch-deep-retina/training_scripts/baseline_wn/baseline_wn_0_lr0.005 -- CV 0/10\n",
            "\n",
            "Loss: -3.28881e+00 | 128/129       \n",
            "Validating\n",
            "Epoch 6 -- /content/torch-deep-retina/training_scripts/baseline_wn/baseline_wn_0_lr0.005 -- CV 0/10\n",
            "Avg Loss: -2.9656268737112828 -- Time: 156.94898509979248\n",
            "Val Cell Cors:0.7050863 | 0.53237164 | 0.4658306 | 0.7241505 | 0.56172615\n",
            "Val Cor: 0.5978330373764038 | Val Loss: -5.839121731184259\n",
            "Cell 0: 0.8136834879797027\n",
            "Cell 1: 0.7207940125167063\n",
            "Cell 2: 0.7109183563760999\n",
            "Cell 3: 0.8249994204978134\n",
            "Cell 4: 0.6735963899831566\n",
            "Avg Test Pearson: 0.7487983334706959\n",
            "Memory Used: 8988.20 mb\n",
            "\n",
            "Beginning Epoch 7/40 --  /content/torch-deep-retina/training_scripts/baseline_wn/baseline_wn_0_lr0.005 -- CV 0/10\n",
            "\n",
            "Loss: -3.08499e+00 | 128/129       \n",
            "Validating\n",
            "Epoch 00008: reducing learning rate of group 0 to 2.5000e-03.\n",
            "Epoch 7 -- /content/torch-deep-retina/training_scripts/baseline_wn/baseline_wn_0_lr0.005 -- CV 0/10\n",
            "Avg Loss: -3.057122587233551 -- Time: 155.74325847625732\n",
            "Val Cell Cors:0.707723 | 0.5351929 | 0.468641 | 0.7304374 | 0.58152646\n",
            "Val Cor: 0.6047041416168213 | Val Loss: -5.787277089284313\n",
            "Cell 0: 0.8179545755530134\n",
            "Cell 1: 0.7178957596740075\n",
            "Cell 2: 0.7083592950654364\n",
            "Cell 3: 0.8357800776736648\n",
            "Cell 4: 0.6967744982700254\n",
            "Avg Test Pearson: 0.7553528412472296\n",
            "Memory Used: 8988.20 mb\n",
            "\n",
            "Beginning Epoch 8/40 --  /content/torch-deep-retina/training_scripts/baseline_wn/baseline_wn_0_lr0.005 -- CV 0/10\n",
            "\n",
            "Loss: -3.41185e+00 | 128/129       \n",
            "Validating\n",
            "Epoch 8 -- /content/torch-deep-retina/training_scripts/baseline_wn/baseline_wn_0_lr0.005 -- CV 0/10\n",
            "Avg Loss: -3.150201366853344 -- Time: 155.34612560272217\n",
            "Val Cell Cors:0.724386 | 0.5439856 | 0.47158167 | 0.7458342 | 0.5974572\n",
            "Val Cor: 0.6166489124298096 | Val Loss: -4.819897853317638\n",
            "Cell 0: 0.8346570399440517\n",
            "Cell 1: 0.7387374925928956\n",
            "Cell 2: 0.7186972787067879\n",
            "Cell 3: 0.858087076056888\n",
            "Cell 4: 0.7194547147188657\n",
            "Avg Test Pearson: 0.7739267204038979\n",
            "Memory Used: 8988.21 mb\n",
            "\n",
            "Beginning Epoch 9/40 --  /content/torch-deep-retina/training_scripts/baseline_wn/baseline_wn_0_lr0.005 -- CV 0/10\n",
            "\n",
            "Loss: -3.46683e+00 | 128/129       \n",
            "Validating\n",
            "Epoch 9 -- /content/torch-deep-retina/training_scripts/baseline_wn/baseline_wn_0_lr0.005 -- CV 0/10\n",
            "Avg Loss: -3.189198749009953 -- Time: 157.60241436958313\n",
            "Val Cell Cors:0.7221074 | 0.54425913 | 0.4720894 | 0.7433021 | 0.5978256\n",
            "Val Cor: 0.6159167289733887 | Val Loss: -4.791675363364793\n",
            "Cell 0: 0.8364304203477763\n",
            "Cell 1: 0.7352495028400651\n",
            "Cell 2: 0.7197612996507855\n",
            "Cell 3: 0.8517423661386705\n",
            "Cell 4: 0.7274039189425083\n",
            "Avg Test Pearson: 0.7741175015839612\n",
            "Memory Used: 8988.22 mb\n",
            "\n",
            "Beginning Epoch 10/40 --  /content/torch-deep-retina/training_scripts/baseline_wn/baseline_wn_0_lr0.005 -- CV 0/10\n",
            "\n",
            "Loss: -2.86534e+00 | 128/129       \n",
            "Validating\n",
            "Epoch 10 -- /content/torch-deep-retina/training_scripts/baseline_wn/baseline_wn_0_lr0.005 -- CV 0/10\n",
            "Avg Loss: -3.2099964304487836 -- Time: 157.1185438632965\n",
            "Val Cell Cors:0.72177404 | 0.54459053 | 0.46486816 | 0.74899626 | 0.59287983\n",
            "Val Cor: 0.6146217584609985 | Val Loss: -4.985339923000167\n",
            "Cell 0: 0.8351009188911636\n",
            "Cell 1: 0.7295732581699427\n",
            "Cell 2: 0.7140132175203063\n",
            "Cell 3: 0.860985230306613\n",
            "Cell 4: 0.7228106799104971\n",
            "Avg Test Pearson: 0.7724966609597046\n",
            "Memory Used: 8988.22 mb\n",
            "\n",
            "Beginning Epoch 11/40 --  /content/torch-deep-retina/training_scripts/baseline_wn/baseline_wn_0_lr0.005 -- CV 0/10\n",
            "\n",
            "Loss: -3.29260e+00 | 128/129       \n",
            "Validating\n",
            "Epoch 11 -- /content/torch-deep-retina/training_scripts/baseline_wn/baseline_wn_0_lr0.005 -- CV 0/10\n",
            "Avg Loss: -3.2373620059139046 -- Time: 155.61276578903198\n",
            "Val Cell Cors:0.72385716 | 0.5487605 | 0.47353423 | 0.74526125 | 0.5873661\n",
            "Val Cor: 0.6157558560371399 | Val Loss: -5.152210540286574\n",
            "Cell 0: 0.837975193153112\n",
            "Cell 1: 0.7349277213331933\n",
            "Cell 2: 0.7224727263178871\n",
            "Cell 3: 0.8536028271123909\n",
            "Cell 4: 0.7224098097383429\n",
            "Avg Test Pearson: 0.7742776555309853\n",
            "Memory Used: 8988.23 mb\n",
            "\n",
            "Beginning Epoch 12/40 --  /content/torch-deep-retina/training_scripts/baseline_wn/baseline_wn_0_lr0.005 -- CV 0/10\n",
            "\n",
            "Loss: -3.47808e+00 | 128/129       \n",
            "Validating\n",
            "Epoch 12 -- /content/torch-deep-retina/training_scripts/baseline_wn/baseline_wn_0_lr0.005 -- CV 0/10\n",
            "Avg Loss: -3.2731170210727427 -- Time: 157.56076097488403\n",
            "Val Cell Cors:0.71915984 | 0.54939365 | 0.4725757 | 0.7450773 | 0.5883795\n",
            "Val Cor: 0.6149171590805054 | Val Loss: -5.362497609346436\n",
            "Cell 0: 0.8248559487193865\n",
            "Cell 1: 0.7409997409669592\n",
            "Cell 2: 0.7227395459034476\n",
            "Cell 3: 0.8588525404103579\n",
            "Cell 4: 0.7203674264948803\n",
            "Avg Test Pearson: 0.7735630404990064\n",
            "Memory Used: 8988.23 mb\n",
            "\n",
            "Beginning Epoch 13/40 --  /content/torch-deep-retina/training_scripts/baseline_wn/baseline_wn_0_lr0.005 -- CV 0/10\n",
            "\n",
            "Loss: -3.46836e+00 | 128/129       \n",
            "Validating\n",
            "Epoch 13 -- /content/torch-deep-retina/training_scripts/baseline_wn/baseline_wn_0_lr0.005 -- CV 0/10\n",
            "Avg Loss: -3.3268094524856684 -- Time: 156.89422821998596\n",
            "Val Cell Cors:0.73018736 | 0.5539929 | 0.4741037 | 0.750553 | 0.604961\n",
            "Val Cor: 0.6227595806121826 | Val Loss: -4.978724041263389\n",
            "Cell 0: 0.8416826030631082\n",
            "Cell 1: 0.7415057510070499\n",
            "Cell 2: 0.7337040722428528\n",
            "Cell 3: 0.8634079663791664\n",
            "Cell 4: 0.7395899862036428\n",
            "Avg Test Pearson: 0.783978075779164\n",
            "Memory Used: 8988.23 mb\n",
            "\n",
            "Beginning Epoch 14/40 --  /content/torch-deep-retina/training_scripts/baseline_wn/baseline_wn_0_lr0.005 -- CV 0/10\n",
            "\n",
            "Loss: -3.23162e+00 | 128/129       \n",
            "Validating\n",
            "Epoch 00015: reducing learning rate of group 0 to 1.2500e-03.\n",
            "Epoch 14 -- /content/torch-deep-retina/training_scripts/baseline_wn/baseline_wn_0_lr0.005 -- CV 0/10\n",
            "Avg Loss: -3.338929015536641 -- Time: 155.58234977722168\n",
            "Val Cell Cors:0.73710763 | 0.5580592 | 0.4737092 | 0.7563403 | 0.613521\n",
            "Val Cor: 0.6277474164962769 | Val Loss: -4.936643190722106\n",
            "Cell 0: 0.8538792640801888\n",
            "Cell 1: 0.7368240580786404\n",
            "Cell 2: 0.7330819279888908\n",
            "Cell 3: 0.8699688997844778\n",
            "Cell 4: 0.7439760988378644\n",
            "Avg Test Pearson: 0.7875460497540124\n",
            "Memory Used: 8988.23 mb\n",
            "\n",
            "Beginning Epoch 15/40 --  /content/torch-deep-retina/training_scripts/baseline_wn/baseline_wn_0_lr0.005 -- CV 0/10\n",
            "\n",
            "Loss: -3.16229e+00 | 128/129       \n",
            "Validating\n",
            "Epoch 15 -- /content/torch-deep-retina/training_scripts/baseline_wn/baseline_wn_0_lr0.005 -- CV 0/10\n",
            "Avg Loss: -3.3960289234338803 -- Time: 156.78071880340576\n",
            "Val Cell Cors:0.73611027 | 0.55797476 | 0.4792398 | 0.75477344 | 0.6165953\n",
            "Val Cor: 0.6289387345314026 | Val Loss: -5.166666657432691\n",
            "Cell 0: 0.8510582190155768\n",
            "Cell 1: 0.7494078615718669\n",
            "Cell 2: 0.7337567876239317\n",
            "Cell 3: 0.8678656400155921\n",
            "Cell 4: 0.7531455999591354\n",
            "Avg Test Pearson: 0.7910468216372205\n",
            "Memory Used: 8988.24 mb\n",
            "\n",
            "Beginning Epoch 16/40 --  /content/torch-deep-retina/training_scripts/baseline_wn/baseline_wn_0_lr0.005 -- CV 0/10\n",
            "\n",
            "Loss: -3.32337e+00 | 128/129       \n",
            "Validating\n",
            "Epoch 16 -- /content/torch-deep-retina/training_scripts/baseline_wn/baseline_wn_0_lr0.005 -- CV 0/10\n",
            "Avg Loss: -3.4085361865139747 -- Time: 157.04773211479187\n",
            "Val Cell Cors:0.7410404 | 0.5604604 | 0.47686225 | 0.75816065 | 0.62414354\n",
            "Val Cor: 0.632133424282074 | Val Loss: -5.04595857871939\n",
            "Cell 0: 0.855164909102392\n",
            "Cell 1: 0.7442443094005258\n",
            "Cell 2: 0.7440575715620158\n",
            "Cell 3: 0.8753997754535954\n",
            "Cell 4: 0.7533997039130618\n",
            "Avg Test Pearson: 0.794453253886318\n",
            "Memory Used: 8988.24 mb\n",
            "\n",
            "Beginning Epoch 17/40 --  /content/torch-deep-retina/training_scripts/baseline_wn/baseline_wn_0_lr0.005 -- CV 0/10\n",
            "\n",
            "Loss: -3.44480e+00 | 128/129       \n",
            "Validating\n",
            "Epoch 17 -- /content/torch-deep-retina/training_scripts/baseline_wn/baseline_wn_0_lr0.005 -- CV 0/10\n",
            "Avg Loss: -3.4246928155884264 -- Time: 155.93530821800232\n",
            "Val Cell Cors:0.73810023 | 0.55844915 | 0.48102102 | 0.75736314 | 0.6183521\n",
            "Val Cor: 0.6306571364402771 | Val Loss: -5.214596154075608\n",
            "Cell 0: 0.855957013194274\n",
            "Cell 1: 0.7463769366362438\n",
            "Cell 2: 0.7418097676875355\n",
            "Cell 3: 0.8712871143915573\n",
            "Cell 4: 0.7410644712998501\n",
            "Avg Test Pearson: 0.7912990606418921\n",
            "Memory Used: 8988.24 mb\n",
            "\n",
            "Beginning Epoch 18/40 --  /content/torch-deep-retina/training_scripts/baseline_wn/baseline_wn_0_lr0.005 -- CV 0/10\n",
            "\n",
            "Loss: -3.56718e+00 | 128/129       \n",
            "Validating\n",
            "Epoch 18 -- /content/torch-deep-retina/training_scripts/baseline_wn/baseline_wn_0_lr0.005 -- CV 0/10\n",
            "Avg Loss: -3.4308058624119724 -- Time: 157.1344702243805\n",
            "Val Cell Cors:0.73557764 | 0.5576432 | 0.4797163 | 0.7564899 | 0.62408215\n",
            "Val Cor: 0.6307018399238586 | Val Loss: -5.256399042405103\n",
            "Cell 0: 0.8492411460800109\n",
            "Cell 1: 0.7503976078020573\n",
            "Cell 2: 0.7388156551137032\n",
            "Cell 3: 0.8722133450436166\n",
            "Cell 4: 0.7552280366358451\n",
            "Avg Test Pearson: 0.7931791581350467\n",
            "Memory Used: 8988.24 mb\n",
            "\n",
            "Beginning Epoch 19/40 --  /content/torch-deep-retina/training_scripts/baseline_wn/baseline_wn_0_lr0.005 -- CV 0/10\n",
            "\n",
            "Loss: -3.03033e+00 | 128/129       \n",
            "Validating\n",
            "Epoch 19 -- /content/torch-deep-retina/training_scripts/baseline_wn/baseline_wn_0_lr0.005 -- CV 0/10\n",
            "Avg Loss: -3.4454088525254596 -- Time: 156.2814497947693\n",
            "Val Cell Cors:0.73788625 | 0.5552791 | 0.47400898 | 0.7575268 | 0.62060225\n",
            "Val Cor: 0.6290606260299683 | Val Loss: -5.0929091532614645\n",
            "Cell 0: 0.8544260687647361\n",
            "Cell 1: 0.74667642510512\n",
            "Cell 2: 0.7291620021890559\n",
            "Cell 3: 0.8731924427232378\n",
            "Cell 4: 0.7606156237246966\n",
            "Avg Test Pearson: 0.7928145125013693\n",
            "Memory Used: 8988.24 mb\n",
            "\n",
            "Beginning Epoch 20/40 --  /content/torch-deep-retina/training_scripts/baseline_wn/baseline_wn_0_lr0.005 -- CV 0/10\n",
            "\n",
            "Loss: -3.44123e+00 | 128/129       \n",
            "Validating\n",
            "Epoch 20 -- /content/torch-deep-retina/training_scripts/baseline_wn/baseline_wn_0_lr0.005 -- CV 0/10\n",
            "Avg Loss: -3.45074818485467 -- Time: 155.73929691314697\n",
            "Val Cell Cors:0.74315476 | 0.56166935 | 0.4856051 | 0.76012814 | 0.6237978\n",
            "Val Cor: 0.6348710060119629 | Val Loss: -5.243845536349781\n",
            "Cell 0: 0.8574160198647561\n",
            "Cell 1: 0.7474011788594389\n",
            "Cell 2: 0.747743641896446\n",
            "Cell 3: 0.8793826130690261\n",
            "Cell 4: 0.7538131942002682\n",
            "Avg Test Pearson: 0.7971513295779872\n",
            "Memory Used: 8988.24 mb\n",
            "\n",
            "Beginning Epoch 21/40 --  /content/torch-deep-retina/training_scripts/baseline_wn/baseline_wn_0_lr0.005 -- CV 0/10\n",
            "\n",
            "Loss: -3.31117e+00 | 128/129       \n",
            "Validating\n",
            "Epoch 00022: reducing learning rate of group 0 to 6.2500e-04.\n",
            "Epoch 21 -- /content/torch-deep-retina/training_scripts/baseline_wn/baseline_wn_0_lr0.005 -- CV 0/10\n",
            "Avg Loss: -3.458171766857768 -- Time: 156.48151087760925\n",
            "Val Cell Cors:0.73976314 | 0.559457 | 0.48484257 | 0.7573466 | 0.6196502\n",
            "Val Cor: 0.6322118639945984 | Val Loss: -5.440362641182039\n",
            "Cell 0: 0.852718888301629\n",
            "Cell 1: 0.7534003246234187\n",
            "Cell 2: 0.7442888733369522\n",
            "Cell 3: 0.8705722761997811\n",
            "Cell 4: 0.7586020760625355\n",
            "Avg Test Pearson: 0.7959164877048633\n",
            "Memory Used: 8988.25 mb\n",
            "\n",
            "Beginning Epoch 22/40 --  /content/torch-deep-retina/training_scripts/baseline_wn/baseline_wn_0_lr0.005 -- CV 0/10\n",
            "\n",
            "Loss: -3.59036e+00 | 128/129       \n",
            "Validating\n",
            "Epoch 22 -- /content/torch-deep-retina/training_scripts/baseline_wn/baseline_wn_0_lr0.005 -- CV 0/10\n",
            "Avg Loss: -3.4894705206848853 -- Time: 156.4592638015747\n",
            "Val Cell Cors:0.742862 | 0.56208533 | 0.4853893 | 0.7627423 | 0.62740403\n",
            "Val Cor: 0.6360965967178345 | Val Loss: -5.320497029148613\n",
            "Cell 0: 0.8557667490879542\n",
            "Cell 1: 0.7548320236631695\n",
            "Cell 2: 0.7457643925196812\n",
            "Cell 3: 0.8767233371766973\n",
            "Cell 4: 0.7568905728611326\n",
            "Avg Test Pearson: 0.797995415061727\n",
            "Memory Used: 8988.25 mb\n",
            "\n",
            "Beginning Epoch 23/40 --  /content/torch-deep-retina/training_scripts/baseline_wn/baseline_wn_0_lr0.005 -- CV 0/10\n",
            "\n",
            "Loss: -3.43675e+00 | 128/129       \n",
            "Validating\n",
            "Epoch 23 -- /content/torch-deep-retina/training_scripts/baseline_wn/baseline_wn_0_lr0.005 -- CV 0/10\n",
            "Avg Loss: -3.4896286143813025 -- Time: 156.66755604743958\n",
            "Val Cell Cors:0.7418868 | 0.56194603 | 0.48556674 | 0.7606178 | 0.62333316\n",
            "Val Cor: 0.6346701383590698 | Val Loss: -5.547555441397544\n",
            "Cell 0: 0.8561566739838944\n",
            "Cell 1: 0.7521781906523576\n",
            "Cell 2: 0.748904339635032\n",
            "Cell 3: 0.8748352804055094\n",
            "Cell 4: 0.7531023422847599\n",
            "Avg Test Pearson: 0.7970353653923107\n",
            "Memory Used: 8988.25 mb\n",
            "\n",
            "Beginning Epoch 24/40 --  /content/torch-deep-retina/training_scripts/baseline_wn/baseline_wn_0_lr0.005 -- CV 0/10\n",
            "\n",
            "Loss: -3.59527e+00 | 128/129       \n",
            "Validating\n",
            "Epoch 24 -- /content/torch-deep-retina/training_scripts/baseline_wn/baseline_wn_0_lr0.005 -- CV 0/10\n",
            "Avg Loss: -3.4976244989291643 -- Time: 156.22891187667847\n",
            "Val Cell Cors:0.744638 | 0.56043863 | 0.48592633 | 0.7631038 | 0.6239742\n",
            "Val Cor: 0.6356161832809448 | Val Loss: -5.383864554921723\n",
            "Cell 0: 0.859684970171998\n",
            "Cell 1: 0.7527704370358043\n",
            "Cell 2: 0.746965516228519\n",
            "Cell 3: 0.8753091386746875\n",
            "Cell 4: 0.7611284413013311\n",
            "Avg Test Pearson: 0.7991717006824679\n",
            "Memory Used: 8988.25 mb\n",
            "\n",
            "Beginning Epoch 25/40 --  /content/torch-deep-retina/training_scripts/baseline_wn/baseline_wn_0_lr0.005 -- CV 0/10\n",
            "\n",
            "Loss: -3.23378e+00 | 128/129       \n",
            "Validating\n",
            "Epoch 25 -- /content/torch-deep-retina/training_scripts/baseline_wn/baseline_wn_0_lr0.005 -- CV 0/10\n",
            "Avg Loss: -3.503528208695641 -- Time: 155.7294626235962\n",
            "Val Cell Cors:0.74384177 | 0.56072164 | 0.4857622 | 0.7612685 | 0.6237639\n",
            "Val Cor: 0.6350716352462769 | Val Loss: -5.483397501188783\n",
            "Cell 0: 0.8586071950828321\n",
            "Cell 1: 0.7538306963119522\n",
            "Cell 2: 0.7463721634746442\n",
            "Cell 3: 0.8770688603632386\n",
            "Cell 4: 0.7593551664419823\n",
            "Avg Test Pearson: 0.7990468163349298\n",
            "Memory Used: 8988.25 mb\n",
            "\n",
            "Beginning Epoch 26/40 --  /content/torch-deep-retina/training_scripts/baseline_wn/baseline_wn_0_lr0.005 -- CV 0/10\n",
            "\n",
            "Loss: -3.86310e+00 | 128/129       \n",
            "Validating\n",
            "Epoch 26 -- /content/torch-deep-retina/training_scripts/baseline_wn/baseline_wn_0_lr0.005 -- CV 0/10\n",
            "Avg Loss: -3.5056659066399862 -- Time: 156.7724964618683\n",
            "Val Cell Cors:0.7454954 | 0.5624195 | 0.48701954 | 0.76196045 | 0.6243597\n",
            "Val Cor: 0.6362508535385132 | Val Loss: -5.412115721773146\n",
            "Cell 0: 0.8599249198383726\n",
            "Cell 1: 0.7519831864789397\n",
            "Cell 2: 0.744363448030528\n",
            "Cell 3: 0.8824620567315077\n",
            "Cell 4: 0.7564991957980061\n",
            "Avg Test Pearson: 0.7990465613754709\n",
            "Memory Used: 8988.25 mb\n",
            "\n",
            "Beginning Epoch 27/40 --  /content/torch-deep-retina/training_scripts/baseline_wn/baseline_wn_0_lr0.005 -- CV 0/10\n",
            "\n",
            "Loss: -3.94413e+00 | 128/129       \n",
            "Validating\n",
            "Epoch 27 -- /content/torch-deep-retina/training_scripts/baseline_wn/baseline_wn_0_lr0.005 -- CV 0/10\n",
            "Avg Loss: -3.5100359121958413 -- Time: 156.6447479724884\n",
            "Val Cell Cors:0.74460286 | 0.56249976 | 0.4855788 | 0.76259696 | 0.62766546\n",
            "Val Cor: 0.6365887522697449 | Val Loss: -5.432926084092018\n",
            "Cell 0: 0.8603996592120284\n",
            "Cell 1: 0.7554708718090936\n",
            "Cell 2: 0.7497144290404725\n",
            "Cell 3: 0.8771374850576368\n",
            "Cell 4: 0.7631558461687461\n",
            "Avg Test Pearson: 0.8011756582575954\n",
            "Memory Used: 8988.25 mb\n",
            "\n",
            "Beginning Epoch 28/40 --  /content/torch-deep-retina/training_scripts/baseline_wn/baseline_wn_0_lr0.005 -- CV 0/10\n",
            "\n",
            "Loss: -3.20225e+00 | 128/129       \n",
            "Validating\n",
            "Epoch 00029: reducing learning rate of group 0 to 3.1250e-04.\n",
            "Epoch 28 -- /content/torch-deep-retina/training_scripts/baseline_wn/baseline_wn_0_lr0.005 -- CV 0/10\n",
            "Avg Loss: -3.514272602953652 -- Time: 155.6527237892151\n",
            "Val Cell Cors:0.747369 | 0.5625583 | 0.48893747 | 0.76303154 | 0.6282216\n",
            "Val Cor: 0.6380235552787781 | Val Loss: -5.471360743226168\n",
            "Cell 0: 0.8603688333785178\n",
            "Cell 1: 0.7524628525312322\n",
            "Cell 2: 0.7507066682659396\n",
            "Cell 3: 0.8814642792350468\n",
            "Cell 4: 0.7659564474865109\n",
            "Avg Test Pearson: 0.8021918161794496\n",
            "Memory Used: 8988.26 mb\n",
            "\n",
            "Beginning Epoch 29/40 --  /content/torch-deep-retina/training_scripts/baseline_wn/baseline_wn_0_lr0.005 -- CV 0/10\n",
            "\n",
            "Loss: -3.82947e+00 | 128/129       \n",
            "Validating\n",
            "Epoch 29 -- /content/torch-deep-retina/training_scripts/baseline_wn/baseline_wn_0_lr0.005 -- CV 0/10\n",
            "Avg Loss: -3.5193586497343787 -- Time: 156.50795555114746\n",
            "Val Cell Cors:0.7462714 | 0.5647957 | 0.48853144 | 0.76327676 | 0.6296184\n",
            "Val Cor: 0.6384987235069275 | Val Loss: -5.562675260897713\n",
            "Cell 0: 0.8624087633133966\n",
            "Cell 1: 0.7503102944232979\n",
            "Cell 2: 0.7528164629406232\n",
            "Cell 3: 0.8786540773089767\n",
            "Cell 4: 0.7616001545428959\n",
            "Avg Test Pearson: 0.801157950505838\n",
            "Memory Used: 8988.26 mb\n",
            "\n",
            "Beginning Epoch 30/40 --  /content/torch-deep-retina/training_scripts/baseline_wn/baseline_wn_0_lr0.005 -- CV 0/10\n",
            "\n",
            "Loss: -3.79295e+00 | 128/129       \n",
            "Validating\n",
            "Epoch 30 -- /content/torch-deep-retina/training_scripts/baseline_wn/baseline_wn_0_lr0.005 -- CV 0/10\n",
            "Avg Loss: -3.5171376679294792 -- Time: 156.65268325805664\n",
            "Val Cell Cors:0.7450267 | 0.56341505 | 0.48568135 | 0.7640594 | 0.6293049\n",
            "Val Cor: 0.6374975442886353 | Val Loss: -5.472858324027161\n",
            "Cell 0: 0.8623878893937098\n",
            "Cell 1: 0.7538370957728621\n",
            "Cell 2: 0.7494683516541266\n",
            "Cell 3: 0.8806590436325418\n",
            "Cell 4: 0.7599182961174356\n",
            "Avg Test Pearson: 0.8012541353141351\n",
            "Memory Used: 8988.26 mb\n",
            "\n",
            "Beginning Epoch 31/40 --  /content/torch-deep-retina/training_scripts/baseline_wn/baseline_wn_0_lr0.005 -- CV 0/10\n",
            "\n",
            "Loss: -3.59572e+00 | 128/129       \n",
            "Validating\n",
            "Epoch 31 -- /content/torch-deep-retina/training_scripts/baseline_wn/baseline_wn_0_lr0.005 -- CV 0/10\n",
            "Avg Loss: -3.5335744462271994 -- Time: 156.41734337806702\n",
            "Val Cell Cors:0.7464095 | 0.56380403 | 0.48700276 | 0.7636003 | 0.6284271\n",
            "Val Cor: 0.6378487348556519 | Val Loss: -5.554479332926887\n",
            "Cell 0: 0.8620127445077317\n",
            "Cell 1: 0.754284089010718\n",
            "Cell 2: 0.749477800577544\n",
            "Cell 3: 0.8784275445405567\n",
            "Cell 4: 0.7588730482072747\n",
            "Avg Test Pearson: 0.800615045368765\n",
            "Memory Used: 8988.26 mb\n",
            "\n",
            "Beginning Epoch 32/40 --  /content/torch-deep-retina/training_scripts/baseline_wn/baseline_wn_0_lr0.005 -- CV 0/10\n",
            "\n",
            "Loss: -3.19991e+00 | 128/129       \n",
            "Validating\n",
            "Epoch 32 -- /content/torch-deep-retina/training_scripts/baseline_wn/baseline_wn_0_lr0.005 -- CV 0/10\n",
            "Avg Loss: -3.5303079804708792 -- Time: 155.9217255115509\n",
            "Val Cell Cors:0.74738896 | 0.5634934 | 0.48840111 | 0.7652596 | 0.630506\n",
            "Val Cor: 0.6390098333358765 | Val Loss: -5.409144173162288\n",
            "Cell 0: 0.8636586112142125\n",
            "Cell 1: 0.7563847992396896\n",
            "Cell 2: 0.7494461780740824\n",
            "Cell 3: 0.8830529360504198\n",
            "Cell 4: 0.7640445953670251\n",
            "Avg Test Pearson: 0.8033174239890858\n",
            "Memory Used: 8988.27 mb\n",
            "\n",
            "Beginning Epoch 33/40 --  /content/torch-deep-retina/training_scripts/baseline_wn/baseline_wn_0_lr0.005 -- CV 0/10\n",
            "\n",
            "Loss: -3.35232e+00 | 128/129       \n",
            "Validating\n",
            "Epoch 33 -- /content/torch-deep-retina/training_scripts/baseline_wn/baseline_wn_0_lr0.005 -- CV 0/10\n",
            "Avg Loss: -3.533644491387892 -- Time: 157.01144981384277\n",
            "Val Cell Cors:0.7463677 | 0.5633502 | 0.4869527 | 0.7641461 | 0.6274453\n",
            "Val Cor: 0.6376523971557617 | Val Loss: -5.567310725517479\n",
            "Cell 0: 0.8624538896919997\n",
            "Cell 1: 0.7539111531286384\n",
            "Cell 2: 0.7497686172552794\n",
            "Cell 3: 0.8816264113882227\n",
            "Cell 4: 0.7636034118700341\n",
            "Avg Test Pearson: 0.802272696666835\n",
            "Memory Used: 8988.27 mb\n",
            "\n",
            "Beginning Epoch 34/40 --  /content/torch-deep-retina/training_scripts/baseline_wn/baseline_wn_0_lr0.005 -- CV 0/10\n",
            "\n",
            "Loss: -3.49359e+00 | 128/129       \n",
            "Validating\n",
            "Epoch 34 -- /content/torch-deep-retina/training_scripts/baseline_wn/baseline_wn_0_lr0.005 -- CV 0/10\n",
            "Avg Loss: -3.5364517075146815 -- Time: 157.10110068321228\n",
            "Val Cell Cors:0.7461786 | 0.5643407 | 0.48895782 | 0.76440305 | 0.6300754\n",
            "Val Cor: 0.6387911438941956 | Val Loss: -5.598970259902966\n",
            "Cell 0: 0.861577659287992\n",
            "Cell 1: 0.7509761857229382\n",
            "Cell 2: 0.7481155448996616\n",
            "Cell 3: 0.8804433394398316\n",
            "Cell 4: 0.7640843215737229\n",
            "Avg Test Pearson: 0.8010394101848293\n",
            "Memory Used: 8988.71 mb\n",
            "\n",
            "Beginning Epoch 35/40 --  /content/torch-deep-retina/training_scripts/baseline_wn/baseline_wn_0_lr0.005 -- CV 0/10\n",
            "\n",
            "Loss: -3.41410e+00 | 128/129       \n",
            "Validating\n",
            "Epoch 00036: reducing learning rate of group 0 to 1.5625e-04.\n",
            "Epoch 35 -- /content/torch-deep-retina/training_scripts/baseline_wn/baseline_wn_0_lr0.005 -- CV 0/10\n",
            "Avg Loss: -3.5407539837120114 -- Time: 156.28175473213196\n",
            "Val Cell Cors:0.7477426 | 0.56462437 | 0.48918325 | 0.76464325 | 0.62405497\n",
            "Val Cor: 0.6380496621131897 | Val Loss: -5.668284490702897\n",
            "Cell 0: 0.862906453087191\n",
            "Cell 1: 0.7540569936561419\n",
            "Cell 2: 0.7525510651580537\n",
            "Cell 3: 0.8800872996475858\n",
            "Cell 4: 0.7577228347518027\n",
            "Avg Test Pearson: 0.801464929260155\n",
            "Memory Used: 8988.71 mb\n",
            "\n",
            "Beginning Epoch 36/40 --  /content/torch-deep-retina/training_scripts/baseline_wn/baseline_wn_0_lr0.005 -- CV 0/10\n",
            "\n",
            "Loss: -3.58443e+00 | 128/129       \n",
            "Validating\n",
            "Epoch 36 -- /content/torch-deep-retina/training_scripts/baseline_wn/baseline_wn_0_lr0.005 -- CV 0/10\n",
            "Avg Loss: -3.552930846694828 -- Time: 156.53240275382996\n",
            "Val Cell Cors:0.7476262 | 0.56501496 | 0.48894244 | 0.7651073 | 0.6291881\n",
            "Val Cor: 0.6391757726669312 | Val Loss: -5.598586717558185\n",
            "Cell 0: 0.8630124549493191\n",
            "Cell 1: 0.7529782945805027\n",
            "Cell 2: 0.7507731588812525\n",
            "Cell 3: 0.8821005668292025\n",
            "Cell 4: 0.7653020667320691\n",
            "Avg Test Pearson: 0.8028333083944691\n",
            "Memory Used: 8988.71 mb\n",
            "\n",
            "Beginning Epoch 37/40 --  /content/torch-deep-retina/training_scripts/baseline_wn/baseline_wn_0_lr0.005 -- CV 0/10\n",
            "\n",
            "Loss: -3.70127e+00 | 128/129       \n",
            "Validating\n",
            "Epoch 37 -- /content/torch-deep-retina/training_scripts/baseline_wn/baseline_wn_0_lr0.005 -- CV 0/10\n",
            "Avg Loss: -3.5514979066774828 -- Time: 156.65022611618042\n",
            "Val Cell Cors:0.7472619 | 0.5645555 | 0.48738015 | 0.7647778 | 0.63001525\n",
            "Val Cor: 0.6387981176376343 | Val Loss: -5.618275278538111\n",
            "Cell 0: 0.8626610599903722\n",
            "Cell 1: 0.7537026315776219\n",
            "Cell 2: 0.750529548305471\n",
            "Cell 3: 0.882220387727583\n",
            "Cell 4: 0.7634127518234648\n",
            "Avg Test Pearson: 0.8025052758849027\n",
            "Memory Used: 8988.76 mb\n",
            "\n",
            "Beginning Epoch 38/40 --  /content/torch-deep-retina/training_scripts/baseline_wn/baseline_wn_0_lr0.005 -- CV 0/10\n",
            "\n",
            "Loss: -3.48199e+00 | 128/129       \n",
            "Validating\n",
            "Epoch 38 -- /content/torch-deep-retina/training_scripts/baseline_wn/baseline_wn_0_lr0.005 -- CV 0/10\n",
            "Avg Loss: -3.5496839571368786 -- Time: 156.19241285324097\n",
            "Val Cell Cors:0.74779093 | 0.5649884 | 0.48970303 | 0.76513284 | 0.6289442\n",
            "Val Cor: 0.6393119096755981 | Val Loss: -5.691502687806579\n",
            "Cell 0: 0.8642186036483552\n",
            "Cell 1: 0.7539901500334766\n",
            "Cell 2: 0.7534107538676771\n",
            "Cell 3: 0.8809112037171594\n",
            "Cell 4: 0.7614541448561744\n",
            "Avg Test Pearson: 0.8027969712245685\n",
            "Memory Used: 8988.77 mb\n",
            "\n",
            "Beginning Epoch 39/40 --  /content/torch-deep-retina/training_scripts/baseline_wn/baseline_wn_0_lr0.005 -- CV 0/10\n",
            "\n",
            "Loss: -3.68227e+00 | 128/129       \n",
            "Validating\n",
            "Epoch 39 -- /content/torch-deep-retina/training_scripts/baseline_wn/baseline_wn_0_lr0.005 -- CV 0/10\n",
            "Avg Loss: -3.549135830975318 -- Time: 156.33655190467834\n",
            "Val Cell Cors:0.74865556 | 0.56552047 | 0.4907778 | 0.7650975 | 0.6280345\n",
            "Val Cor: 0.6396171450614929 | Val Loss: -5.684279358244836\n",
            "Cell 0: 0.8631978131714269\n",
            "Cell 1: 0.7527946252250443\n",
            "Cell 2: 0.7532030028413527\n",
            "Cell 3: 0.8813557333096658\n",
            "Cell 4: 0.7639398132352513\n",
            "Avg Test Pearson: 0.8028981975565481\n",
            "Memory Used: 8988.77 mb\n",
            "\n",
            "Beginning Epoch 40/40 --  /content/torch-deep-retina/training_scripts/baseline_wn/baseline_wn_0_lr0.005 -- CV 0/10\n",
            "\n",
            "Loss: -3.97159e+00 | 128/129       \n",
            "Validating\n",
            "Epoch 40 -- /content/torch-deep-retina/training_scripts/baseline_wn/baseline_wn_0_lr0.005 -- CV 0/10\n",
            "Avg Loss: -3.5515609027803405 -- Time: 157.23808908462524\n",
            "Val Cell Cors:0.74755764 | 0.5653784 | 0.48987725 | 0.7654938 | 0.62882173\n",
            "Val Cor: 0.6394257545471191 | Val Loss: -5.662261477128019\n",
            "Cell 0: 0.8633649206547422\n",
            "Cell 1: 0.7546916358986586\n",
            "Cell 2: 0.7519601458833342\n",
            "Cell 3: 0.8815530840503348\n",
            "Cell 4: 0.7611058677109951\n",
            "Avg Test Pearson: 0.802535130839613\n",
            "Memory Used: 8988.77 mb\n",
            "\n",
            "Total Execution Time: 7072.341209411621\n"
          ]
        }
      ]
    },
    {
      "cell_type": "code",
      "source": [
        "#this is for running the analysis, you have to change make_figs and make_rfs to True in the analysis_pipeline.py file\n",
        "#and change the /test to the name of the experiment you wanna run the analysis for (obvi) <3\n",
        "! python3 analysis_pipeline.py baseline_wn"
      ],
      "metadata": {
        "colab": {
          "base_uri": "https://localhost:8080/"
        },
        "id": "mBht2_TvX5vg",
        "outputId": "5767e6de-3949-4b3e-f41e-8c05c60d1473"
      },
      "execution_count": null,
      "outputs": [
        {
          "output_type": "stream",
          "name": "stdout",
          "text": [
            "error: XDG_RUNTIME_DIR not set in the environment.\n",
            "ALSA lib confmisc.c:855:(parse_card) cannot find card '0'\n",
            "ALSA lib conf.c:5178:(_snd_config_evaluate) function snd_func_card_inum returned error: No such file or directory\n",
            "ALSA lib confmisc.c:422:(snd_func_concat) error evaluating strings\n",
            "ALSA lib conf.c:5178:(_snd_config_evaluate) function snd_func_concat returned error: No such file or directory\n",
            "ALSA lib confmisc.c:1334:(snd_func_refer) error evaluating name\n",
            "ALSA lib conf.c:5178:(_snd_config_evaluate) function snd_func_refer returned error: No such file or directory\n",
            "ALSA lib conf.c:5701:(snd_config_expand) Evaluate error: No such file or directory\n",
            "ALSA lib pcm.c:2664:(snd_pcm_open_noupdate) Unknown PCM default\n",
            "ALSA lib confmisc.c:855:(parse_card) cannot find card '0'\n",
            "ALSA lib conf.c:5178:(_snd_config_evaluate) function snd_func_card_inum returned error: No such file or directory\n",
            "ALSA lib confmisc.c:422:(snd_func_concat) error evaluating strings\n",
            "ALSA lib conf.c:5178:(_snd_config_evaluate) function snd_func_concat returned error: No such file or directory\n",
            "ALSA lib confmisc.c:1334:(snd_func_refer) error evaluating name\n",
            "ALSA lib conf.c:5178:(_snd_config_evaluate) function snd_func_refer returned error: No such file or directory\n",
            "ALSA lib conf.c:5701:(snd_config_expand) Evaluate error: No such file or directory\n",
            "ALSA lib pcm.c:2664:(snd_pcm_open_noupdate) Unknown PCM default\n",
            "f2_response is unavailable until you run:\n",
            "$ pip install -e git+git://github.com/nirum/jetpack.git@master#egg=jetpack\n",
            "Analyzing baseline_wn\n",
            "\n",
            "\n",
            "Analyzing baseline_wn_0_lr0.005\n",
            "Pruned Channels:\n",
            "sequential.0: \n",
            "sequential.4: \n",
            "Making figures\n",
            "Dataset: 15-10-07\n",
            "Test Cor: 0.8025312742037161   Loss: -5.1325249671936035\n"
          ]
        }
      ]
    }
  ]
}